{
 "cells": [
  {
   "cell_type": "markdown",
   "id": "6eaf54b9-bb1e-4b2d-b39a-e37fe5dcb043",
   "metadata": {},
   "source": [
    "#### Задача 1 (3 балла). \n",
    "\n",
    "Разовьем тему с бойцами. Напишите игру (можно взять свой старый код в качестве базы), где игроку будет предложено выбрать класс героя: волшебник или боец. Вы должны учесть возможность добавления новых игровых классов (используйте наследование). У волшебника и бойца немного разные атрибуты (можно атрибуты сделать одинаковые в классе-родителе, но разные коэффициенты в классах-детях, на которые они домножаются: например, здоровье волшебника будет 1.0 от стандартного значения, а здоровье бойца - 1.5, а с маной наоборот). Также у них будут разные методы \"нанести удар\" и, если хотите, приветствия. Также у нашего героя, кем бы он ни был, должен быть рюкзак, в котором можно рыться и хранить ограниченный набор вещей (в частности, там хранятся зелья: по умолчанию пусть в начале игры каждому персонажу дается по три зелья). Наконец, нужен класс для противника: можете придумать любого монстра (тоже с возможностью добавления новых монстров, очевидно), с которым герой будет сражаться. Во время сражения неплохо предоставлять игроку выбор вида \"нанести удар - выпить зелье\", а сам урон от удара можно немного рандомизировать с помощью одноименного модуля. Можно еще реализовать и метод sleep для мирного времени, но во время боя он, конечно, не понадобится. "
   ]
  },
  {
   "cell_type": "code",
   "execution_count": 12,
   "id": "79d53758-ea88-40d9-94b9-f00206d1a4d9",
   "metadata": {},
   "outputs": [
    {
     "name": "stdin",
     "output_type": "stream",
     "text": [
      "Choose the hero class: Fighter / Wizard --->  wizard\n",
      "Введите имя -->  Wizi\n",
      "Choose the monster class: Vampire --->  vampire\n"
     ]
    },
    {
     "name": "stdout",
     "output_type": "stream",
     "text": [
      "Hello, my new friend! My name is Wizi, I'm a wizard\n"
     ]
    },
    {
     "name": "stdin",
     "output_type": "stream",
     "text": [
      "Begin an advanture? yes\n"
     ]
    },
    {
     "name": "stdout",
     "output_type": "stream",
     "text": [
      "Wizi: Health - 70.0/100.0, Mana - 120.0/150.0\n",
      "Vampire: Health - 90.0/100.0\n"
     ]
    },
    {
     "name": "stdin",
     "output_type": "stream",
     "text": [
      "drink a potion? (Yes/No)--> no\n"
     ]
    },
    {
     "name": "stdout",
     "output_type": "stream",
     "text": [
      "Wizi: Health - 70.0/100.0, Mana - 90.0/150.0\n",
      "Vampire: Health - 72.0/100.0\n"
     ]
    },
    {
     "name": "stdin",
     "output_type": "stream",
     "text": [
      "drink a potion? (Yes/No)--> no\n"
     ]
    },
    {
     "name": "stdout",
     "output_type": "stream",
     "text": [
      "Wizi: Health - 42.0/100.0, Mana - 60.0/150.0\n",
      "Vampire: Health - 44.0/100.0\n"
     ]
    },
    {
     "name": "stdin",
     "output_type": "stream",
     "text": [
      "drink a potion? (Yes/No)--> no\n"
     ]
    },
    {
     "name": "stdout",
     "output_type": "stream",
     "text": [
      "Wizi: Health - 12.0/100.0, Mana - 30.0/150.0\n",
      "Vampire: Health - 29.0/100.0\n"
     ]
    },
    {
     "name": "stdin",
     "output_type": "stream",
     "text": [
      "drink a potion? (Yes/No)--> yes\n",
      "Choose a potion from your rucksack: ['health_potion', 'mana_potion', 'strength_potion'] --> health_potion\n"
     ]
    },
    {
     "name": "stdout",
     "output_type": "stream",
     "text": [
      "Wizi: Health - 42.0/100.0, Mana - 30.0/150.0\n",
      "Wizi: Health - 19.0/100.0, Mana - 0.0/150.0\n",
      "Vampire: Health - 7.0/100.0\n"
     ]
    },
    {
     "name": "stdin",
     "output_type": "stream",
     "text": [
      "drink a potion? (Yes/No)--> yes\n",
      "Choose a potion from your rucksack: ['mana_potion', 'strength_potion'] --> mana_potion\n"
     ]
    },
    {
     "name": "stdout",
     "output_type": "stream",
     "text": [
      "Wizi: Health - 19.0/100.0, Mana - 30.0/150.0\n",
      "Wizi: Health - 15.0/100.0, Mana - 0.0/150.0\n",
      "Vampire: Health - -8.0/100.0\n"
     ]
    },
    {
     "name": "stdin",
     "output_type": "stream",
     "text": [
      "drink a potion? (Yes/No)--> no\n"
     ]
    },
    {
     "name": "stdout",
     "output_type": "stream",
     "text": [
      "Victory\n"
     ]
    }
   ],
   "source": [
    "import random\n",
    "\n",
    "class Hero: # У героев коэффициент - это coef(health, mana, strength)\n",
    "    def __init__(self, name):\n",
    "        self.name = name\n",
    "        self.rucksack = HeroRucksack(5, ['health_potion', 'mana_potion', 'strength_potion'])\n",
    "        self.mana = 100\n",
    "        self.health = 100\n",
    "        self.strength = 30\n",
    "    \n",
    "    def drink_a_potion(self):\n",
    "        while True:\n",
    "            potion = input(f'Choose a potion from your rucksack: {self.rucksack.init} -->')\n",
    "            if potion in self.rucksack.init:\n",
    "                if potion.strip(' ') == 'health_potion':\n",
    "                    self.health += 30\n",
    "                    self.rucksack.init.remove('health_potion')\n",
    "                    break\n",
    "                elif potion.strip(' ') == 'mana_potion':\n",
    "                    self.mana += 30\n",
    "                    self.rucksack.init.remove('mana_potion')\n",
    "                    break\n",
    "                elif potion.strip(' ') == 'strength_potion':\n",
    "                    self.strength += 20 \n",
    "                    self.rucksack.init.remove('strength_potion')\n",
    "                    break\n",
    "            else: print('The item doesn\\'t found')\n",
    "    \n",
    "    def hit(self):\n",
    "        raise NotImplementedError\n",
    "        \n",
    "    def greeting(self):\n",
    "        raise NotImplementedError\n",
    "\n",
    "class Fighter(Hero):\n",
    "    def __init__(self, name):\n",
    "        coef = (1.5, 1.0, 1.2)\n",
    "        Hero.__init__(self, name)\n",
    "        self.health *= coef[0]\n",
    "        self.h = self.health\n",
    "        self.mana *= coef[1]\n",
    "        self.m = self.mana\n",
    "        self.strength += coef[2]\n",
    "        \n",
    "    def __str__(self):\n",
    "        return f'{self.name}: Health - {self.health}/{self.h}, Mana - {self.mana}/{self.m}'    \n",
    "        \n",
    "    def hit(self, monster):\n",
    "        self.mana -= 30\n",
    "        self.health -= int(monster.strength * random.random())\n",
    "        \n",
    "    def greeting(self):\n",
    "        print(f'Hello, my new friend! My name is {self.name}, I\\'m a fighter')\n",
    "    \n",
    "class Wizard(Hero):\n",
    "    def __init__(self, name):\n",
    "        coef = (1.0, 1.5, 1.0)\n",
    "        Hero.__init__(self, name)\n",
    "        self.health *= coef[0]\n",
    "        self.h = self.health\n",
    "        self.mana *= coef[1]\n",
    "        self.m = self.mana\n",
    "        self.strength += coef[2]\n",
    "        \n",
    "    def __str__(self):\n",
    "        return f'{self.name}: Health - {self.health}/{self.h}, Mana - {self.mana}/{self.m}'    \n",
    "        \n",
    "    def hit(self, monster):\n",
    "        self.mana -= 30\n",
    "        self.health -= int(monster.strength * random.random())\n",
    "        \n",
    "    def greeting(self):\n",
    "        print(f'Hello, my new friend! My name is {self.name}, I\\'m a wizard')\n",
    "\n",
    "class HeroRucksack:\n",
    "    def __init__(self, size, init):\n",
    "        self.size = size\n",
    "        self.init = init\n",
    "        \n",
    "    def __iter__(self):\n",
    "        for item in self.init:\n",
    "            yield item\n",
    "            \n",
    "    def __contains__(self, x):\n",
    "        return x in self.init\n",
    "        \n",
    "    def add(self, obj):\n",
    "        if len(self.init) < self.size:\n",
    "            self.init.append(obj) \n",
    "        else:\n",
    "            return 'HeroRucksack_full'\n",
    "        \n",
    "class Monster: # У монстров коэффициент - это coef(health, strength)\n",
    "    def __init__(self):\n",
    "        self.health = 100\n",
    "        self.strength = 30\n",
    "    \n",
    "    def hit(self):\n",
    "        raise NotImplementedError\n",
    "        \n",
    "class Vampire(Monster):\n",
    "    def __init__(self):\n",
    "        Monster.__init__(self)\n",
    "        coef = (1.0, 1.0)\n",
    "        self.name = 'Vampire'\n",
    "        self.health *= coef[0] \n",
    "        self.h = self.health\n",
    "        self.strength += coef[1]\n",
    "        \n",
    "    def __str__(self):\n",
    "        return f'{self.name}: Health - {self.health}/{self.h}'\n",
    "        \n",
    "    def hit(self, hero):\n",
    "        self.health -= int(hero.strength * random.random())\n",
    "        \n",
    "while True:\n",
    "    hero_class = input('Choose the hero class: Fighter / Wizard ---> ')\n",
    "    if hero_class.lower() == 'fighter':\n",
    "        name = input('Введите имя --> ')\n",
    "        hero = Fighter(name)\n",
    "        break\n",
    "    elif hero_class.lower() == 'wizard':\n",
    "        name = input('Введите имя --> ')\n",
    "        hero = Wizard(name)\n",
    "        break\n",
    "    else:\n",
    "        print('Class is not found')\n",
    "\n",
    "while True:\n",
    "    monster_class = input('Choose the monster class: Vampire ---> ')\n",
    "    if monster_class.lower() == 'vampire':\n",
    "        monster = Vampire()\n",
    "        break\n",
    "    else:\n",
    "        print('Class is not found')\n",
    "\n",
    "def fight(hero, monster):\n",
    "    while True:\n",
    "        if hero.health > 0 and monster.health > 0:\n",
    "            if hero.mana > 0:\n",
    "                hero.hit(monster)\n",
    "            else: \n",
    "                print(f'Mana is over \\n Defeat')\n",
    "                break\n",
    "        elif hero.health < 0 and monster.health > 0:\n",
    "            print('Defeat')\n",
    "            break\n",
    "        if hero.health > 0 and monster.health > 0:\n",
    "            monster.hit(hero)\n",
    "        elif hero.health > 0 and monster.health < 0:\n",
    "            print('Victory')\n",
    "            break\n",
    "        if hero.health < 0 and monster.health < 0:\n",
    "            print('Drawn')\n",
    "            break\n",
    "        print(hero)\n",
    "        print(monster)\n",
    "        move = input('drink a potion? (Yes/No)-->')\n",
    "        if move.lower() == 'yes':\n",
    "            hero.drink_a_potion()\n",
    "            print(hero, end='\\n')\n",
    "        else: continue\n",
    "\n",
    "hero.greeting()\n",
    "start = input('Begin an advanture?')\n",
    "if start.lower() == 'yes':\n",
    "    fight(hero, monster) \n",
    "else:\n",
    "    print('Bye bye')"
   ]
  },
  {
   "cell_type": "markdown",
   "id": "27112b93-fab0-4783-81e6-3e209d99a251",
   "metadata": {},
   "source": [
    "#### Задача 2 (3 балла). \n",
    "\n",
    "Вспомним задачу токенизации. Напишите собственный простенький токенизатор (с самим процессом можно не сильно заморачиваться), который будет создавать генератор с объектами класса Token, у которых будет атрибут text и атрибут category (латинское слово, кириллическое слово или пунктуация). Токенизатор должен быть реализован в классе, у которого должна быть (генераторная) функция tokenize(). Вам понадобится отдельный класс для токенов и re.finditer(). "
   ]
  },
  {
   "cell_type": "code",
   "execution_count": 13,
   "id": "efd96086-23c7-45d9-b6cd-086245212fa0",
   "metadata": {},
   "outputs": [],
   "source": [
    "import re"
   ]
  },
  {
   "cell_type": "code",
   "execution_count": 3,
   "id": "c07a855e-f9e8-46fd-b9d3-afcb3ba8530a",
   "metadata": {},
   "outputs": [],
   "source": [
    "text = open('D:\\\\hw.txt', 'r', encoding='utf8')\n",
    "\n",
    "class Token:\n",
    "    def __init__(self, text):\n",
    "        self.text = text\n",
    "        self.category = None\n",
    "        \n",
    "class Tokenizer:\n",
    "    def __init__(self, text):\n",
    "        self.text = text\n",
    "        \n",
    "    def tokenizator(self):\n",
    "        tokens = re.finditer(r'([а-яА-Я]+)|([a-zA-Z]+)|([^\\w\\s])', text)\n",
    "        for match in tokens:\n",
    "            token = match.group()\n",
    "            token = Token(str(token))\n",
    "            if match.group(1):\n",
    "                token.category = 'cyrillic'\n",
    "            elif match.group(2):\n",
    "                token.category = 'latin'\n",
    "            else: \n",
    "                token.category = 'punct' \n",
    "            yield token\n",
    "\n",
    "#if match.group(1)...        \n",
    "#ошибок не выдает, но я что-то зависла на вопросе как вывести все токеты этого текста"
   ]
  },
  {
   "cell_type": "code",
   "execution_count": 60,
   "id": "bf418848-1982-4b5a-9f85-de6b5e7485f9",
   "metadata": {},
   "outputs": [
    {
     "name": "stdout",
     "output_type": "stream",
     "text": [
      "Воспитанные cyrillic\n",
      "люди cyrillic\n",
      "должны cyrillic\n",
      "удовлетворять cyrillic\n",
      "следующим cyrillic\n",
      "условиям cyrillic\n",
      ": punct\n",
      "… punct\n",
      "Они cyrillic\n",
      "уважают cyrillic\n",
      "человеческую cyrillic\n",
      "личность cyrillic\n",
      ", punct\n",
      "всегда cyrillic\n",
      "снисходительны cyrillic\n",
      ", punct\n",
      "мягкие cyrillic\n",
      ", punct\n",
      "вежливые cyrillic\n",
      ", punct\n",
      "уступчивые cyrillic\n",
      "… punct\n",
      "We latin\n",
      "are latin\n",
      "very latin\n",
      "much latin\n",
      "alike latin\n",
      ": punct\n",
      "open latin\n",
      "- punct\n",
      "hearted latin\n",
      ", punct\n",
      "smart latin\n",
      "and latin\n",
      "merry latin\n",
      ". punct\n",
      "That latin\n",
      "' punct\n",
      "s latin\n",
      "why latin\n",
      "we latin\n",
      "have latin\n",
      "a latin\n",
      "lot latin\n",
      "of latin\n",
      "friends latin\n",
      ". punct\n"
     ]
    }
   ],
   "source": [
    "text = open('D:\\\\hw.txt', 'r', encoding='utf8').read()\n",
    "tokens = re.finditer(r'([а-яА-Я]+)|([a-zA-Z]+)|([^\\w\\s])', text)\n",
    "for match in tokens:\n",
    "    token = match.group()\n",
    "    token = Token(str(token))\n",
    "    if match.group(1):\n",
    "        token.category = 'cyrillic'\n",
    "    elif match.group(2):\n",
    "        token.category = 'latin'\n",
    "    else: \n",
    "        token.category = 'punct'\n",
    "    print(token.text, token.category)"
   ]
  },
  {
   "cell_type": "markdown",
   "id": "27bbf88b-9734-4020-9f5a-981d8d74965f",
   "metadata": {},
   "source": [
    "#### Задача 3 (необязательная: + 3 балла + можно сдавать позднее дедлайна)\n",
    "\n",
    "Самостоятельно изучите библиотеку pyqt5 и напишите программу - графический интерфейс для морфопарсинга: можно использовать любой морфопарсер. В программе должно быть окно, куда пользователь может вставлять свой собственный текст, кнопка \"parse\" и второе окно, в котором будет появляться морфоразбор. В каком виде он будет появляться, не принципиально, но можно сделать таблички. "
   ]
  },
  {
   "cell_type": "markdown",
   "id": "69a930ec-06b5-4b9f-a6b0-2863695aee43",
   "metadata": {},
   "source": [
    "    код для этой задачи удобнее будет писать в py. "
   ]
  }
 ],
 "metadata": {
  "kernelspec": {
   "display_name": "Python 3 (ipykernel)",
   "language": "python",
   "name": "python3"
  },
  "language_info": {
   "codemirror_mode": {
    "name": "ipython",
    "version": 3
   },
   "file_extension": ".py",
   "mimetype": "text/x-python",
   "name": "python",
   "nbconvert_exporter": "python",
   "pygments_lexer": "ipython3",
   "version": "3.9.7"
  }
 },
 "nbformat": 4,
 "nbformat_minor": 5
}
