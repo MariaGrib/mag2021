{
 "cells": [
  {
   "cell_type": "code",
   "execution_count": 54,
   "id": "823b8bec",
   "metadata": {},
   "outputs": [
    {
     "data": {
      "text/plain": [
       "4.0"
      ]
     },
     "execution_count": 54,
     "metadata": {},
     "output_type": "execute_result"
    }
   ],
   "source": [
    "# closure\n",
    "def ext(func):\n",
    "    def inner(x, y):\n",
    "        if y == 0:\n",
    "            print('Cannot divide by zero')\n",
    "            return\n",
    "        return func(x, y)\n",
    "    return inner\n",
    "\n",
    "@ext\n",
    "def func(x, y):\n",
    "    return x / y\n",
    "\n",
    "func(4,1)"
   ]
  },
  {
   "cell_type": "code",
   "execution_count": null,
   "id": "d9f0e710",
   "metadata": {},
   "outputs": [],
   "source": [
    "# это декоратор:\n",
    "class A:\n",
    "    @staticmethod\n",
    "    def staticmeth(x):\n",
    "        return x\n",
    "    \n",
    "    @classmethod\n",
    "    ...\n",
    "    \n",
    "    \n",
    "    \n",
    "class A:\n",
    "    def staticmeth(x):\n",
    "        return x\n",
    "    staticmeth = staticmethod(staticmeth)"
   ]
  },
  {
   "cell_type": "code",
   "execution_count": 1,
   "id": "befabdff",
   "metadata": {},
   "outputs": [],
   "source": [
    "class Person:\n",
    "    def __init__(self):\n",
    "        self.__name = ''\n",
    "        \n",
    "    @property    \n",
    "    def name(self): #name - имя аттрибута\n",
    "        return self.__name\n",
    "    \n",
    "    @name.setter\n",
    "    def name(self, val):\n",
    "        self.__name = val\n",
    "    \n",
    "    @name.deleter\n",
    "    def name(self):\n",
    "        del self.__name"
   ]
  },
  {
   "cell_type": "code",
   "execution_count": 2,
   "id": "14986be2",
   "metadata": {},
   "outputs": [],
   "source": [
    "p = Person()"
   ]
  },
  {
   "cell_type": "code",
   "execution_count": 3,
   "id": "57117d66",
   "metadata": {},
   "outputs": [
    {
     "data": {
      "text/plain": [
       "''"
      ]
     },
     "execution_count": 3,
     "metadata": {},
     "output_type": "execute_result"
    }
   ],
   "source": [
    "p.name"
   ]
  },
  {
   "cell_type": "code",
   "execution_count": 4,
   "id": "a5b26616",
   "metadata": {},
   "outputs": [],
   "source": [
    "p.name = 'Vasya'"
   ]
  },
  {
   "cell_type": "code",
   "execution_count": 7,
   "id": "8b7f9306",
   "metadata": {},
   "outputs": [],
   "source": [
    "# closure, замыкание - позволяет проверять аргументы. гард-зиро может \n",
    "# проверять все мои функции на ноль\n",
    "\n",
    "def guard_zero(operate):\n",
    "    def inner(x, y):\n",
    "        if y == 0:\n",
    "            print('Cannot divide by zero')\n",
    "            return\n",
    "        return operate (x, y)\n",
    "    return inner\n"
   ]
  },
  {
   "cell_type": "code",
   "execution_count": 8,
   "id": "c600595d",
   "metadata": {},
   "outputs": [],
   "source": [
    "def true_divide(x, y):\n",
    "    return x / y\n",
    "\n",
    "def divide(x, y):\n",
    "    return x // y\n",
    "\n",
    "divide = guard_zero(divide)\n",
    "true_divide = guard_zero(true_divide)"
   ]
  },
  {
   "cell_type": "code",
   "execution_count": 10,
   "id": "adb31385",
   "metadata": {},
   "outputs": [
    {
     "data": {
      "text/plain": [
       "1"
      ]
     },
     "execution_count": 10,
     "metadata": {},
     "output_type": "execute_result"
    }
   ],
   "source": [
    "true_divide(4,3)\n",
    "divide(4,3)"
   ]
  },
  {
   "cell_type": "code",
   "execution_count": 11,
   "id": "82def1eb",
   "metadata": {},
   "outputs": [],
   "source": [
    "#с собачкой то же самое можно написать\n",
    "\n",
    "@guard_zero\n",
    "def true_divide(x, y):\n",
    "    return x / y\n",
    "\n",
    "@guard_zero\n",
    "def divide(x, y):\n",
    "    return x // y"
   ]
  },
  {
   "cell_type": "code",
   "execution_count": 13,
   "id": "2c6ffde4",
   "metadata": {},
   "outputs": [],
   "source": [
    "def decorator(func):\n",
    "    def wrapped(*args, **kwargs): #kwargs - key-word arguments\n",
    "        print('do something')\n",
    "        result = func(*args, **kwargs)\n",
    "        return result\n",
    "    return wrapped\n",
    "\n",
    "@decorator\n",
    "def myfunc():\n",
    "    pass\n",
    "\n",
    "# переменные будут где-то храниться\n",
    "\n",
    "@decorator\n",
    "def myfunc(a, b):\n",
    "    print(a + b)"
   ]
  },
  {
   "cell_type": "code",
   "execution_count": 19,
   "id": "0d2723e1",
   "metadata": {},
   "outputs": [],
   "source": [
    "# @decorator(...) - совсем сложно и мы использовать не будем, т.к. это не \n",
    "# декоратор, а декоратор декораторов (то есть фабрика декораторов)\n",
    "\n",
    "def decodeco(arg1, arg2, arg3):\n",
    "    def wrap(f): # f = myfunc\n",
    "        print('Inside wrap')\n",
    "        def wrapped_f(*args):\n",
    "            print('Inside wrapped f')\n",
    "            print(*args)\n",
    "            print(arg1, arg2, arg3)\n",
    "            f(*args)\n",
    "            print('After')\n",
    "        return wrapped_f\n",
    "    return wrap"
   ]
  },
  {
   "cell_type": "code",
   "execution_count": 20,
   "id": "51574cc0",
   "metadata": {},
   "outputs": [
    {
     "name": "stdout",
     "output_type": "stream",
     "text": [
      "Inside wrap\n",
      "Inside wrapped f\n",
      "this is a decorator\n",
      "1 2 3\n",
      "this is a decorator\n",
      "After\n"
     ]
    }
   ],
   "source": [
    "@decodeco(1, 2, 3)\n",
    "def myfunc(a1, a2, a3, a4):\n",
    "    print(a1, a2, a3, a4)\n",
    "    \n",
    "myfunc('this', 'is', 'a', 'decorator')"
   ]
  },
  {
   "cell_type": "code",
   "execution_count": 21,
   "id": "6db88272",
   "metadata": {},
   "outputs": [],
   "source": [
    "# это все означает, что по сути\n",
    "# myfunc = decodeco(...(myfunc))"
   ]
  },
  {
   "cell_type": "code",
   "execution_count": 31,
   "id": "3523dd14",
   "metadata": {},
   "outputs": [
    {
     "name": "stdout",
     "output_type": "stream",
     "text": [
      "Decorator for concatenation\n",
      "Decorator for summation\n"
     ]
    }
   ],
   "source": [
    "def decodecorator (dataType, message1, message2):\n",
    "    def decorator(func):\n",
    "        print(message1)\n",
    "        def wrapper(*args, **kwargs):\n",
    "            print(message2)\n",
    "            if all([type(arg) == dataType for arg in args]):\n",
    "                return func(*args, **kwargs)\n",
    "            return \"Invalid input\"\n",
    "        return wrapper\n",
    "    return decorator\n",
    "\n",
    "@decodecorator(str, 'Decorator for concatenation', 'stringJoin started...')\n",
    "def stringJoin(*args):\n",
    "    res = ''\n",
    "    for arg in args:\n",
    "        res += arg\n",
    "    return res\n",
    "    \n",
    "@decodecorator(int, 'Decorator for summation', 'summation started...')\n",
    "def summation(*args):\n",
    "    res = 0\n",
    "    for arg in args:\n",
    "        res += arg\n",
    "    return res"
   ]
  },
  {
   "cell_type": "code",
   "execution_count": 32,
   "id": "1c97f989",
   "metadata": {},
   "outputs": [
    {
     "name": "stdout",
     "output_type": "stream",
     "text": [
      "stringJoin started...\n"
     ]
    },
    {
     "data": {
      "text/plain": [
       "'123'"
      ]
     },
     "execution_count": 32,
     "metadata": {},
     "output_type": "execute_result"
    }
   ],
   "source": [
    "stringJoin('1','2','3')"
   ]
  },
  {
   "cell_type": "code",
   "execution_count": 33,
   "id": "d2a448fd",
   "metadata": {},
   "outputs": [
    {
     "name": "stdout",
     "output_type": "stream",
     "text": [
      "summation started...\n"
     ]
    },
    {
     "data": {
      "text/plain": [
       "6"
      ]
     },
     "execution_count": 33,
     "metadata": {},
     "output_type": "execute_result"
    }
   ],
   "source": [
    "summation(1,2,3)"
   ]
  },
  {
   "cell_type": "code",
   "execution_count": 34,
   "id": "39869551",
   "metadata": {},
   "outputs": [],
   "source": [
    "class tracer:\n",
    "    '''декоратор-класс для функции'''\n",
    "    def __init__(self, func):\n",
    "        self.calls = 0\n",
    "        self.func = func\n",
    "        \n",
    "    def __call__(self, *args):\n",
    "        self.calls += 1\n",
    "        print(f'# of calls: {self.calls}, function: {self.func.__name__}')\n",
    "        return self.func(*args)\n",
    "    \n",
    "@tracer\n",
    "def func(a, b, c):\n",
    "    print(a, b, c)\n",
    "    \n",
    "# func = tracer(func) "
   ]
  },
  {
   "cell_type": "code",
   "execution_count": 35,
   "id": "93ef913f",
   "metadata": {},
   "outputs": [
    {
     "name": "stdout",
     "output_type": "stream",
     "text": [
      "# of calls: 1, function: func\n",
      "1 6 3\n"
     ]
    }
   ],
   "source": [
    "func(1, 6, 3)"
   ]
  },
  {
   "cell_type": "code",
   "execution_count": 36,
   "id": "326601bf",
   "metadata": {},
   "outputs": [],
   "source": [
    "def decorator(aClass):\n",
    "    aClass.instances = 0\n",
    "    return aClass"
   ]
  },
  {
   "cell_type": "code",
   "execution_count": 51,
   "id": "013e9619",
   "metadata": {},
   "outputs": [],
   "source": [
    "from dataclasses import dataclass, make_dataclass\n",
    "\n",
    "@dataclass\n",
    "class Book:\n",
    "    title: str\n",
    "    author: str\n",
    "        \n",
    "b = Book('was', 'wer')"
   ]
  },
  {
   "cell_type": "code",
   "execution_count": 42,
   "id": "03ea1344",
   "metadata": {},
   "outputs": [
    {
     "name": "stdout",
     "output_type": "stream",
     "text": [
      "Book(title='was', author='wer')\n"
     ]
    }
   ],
   "source": [
    "print(b)"
   ]
  },
  {
   "cell_type": "code",
   "execution_count": 45,
   "id": "7f8bf148",
   "metadata": {},
   "outputs": [],
   "source": [
    "Book = make_dataclass('Book', ['title','author'])"
   ]
  },
  {
   "cell_type": "code",
   "execution_count": 46,
   "id": "a4357a09",
   "metadata": {},
   "outputs": [
    {
     "name": "stdout",
     "output_type": "stream",
     "text": [
      "<class 'types.Book'>\n"
     ]
    }
   ],
   "source": [
    "print(Book)"
   ]
  },
  {
   "cell_type": "code",
   "execution_count": 47,
   "id": "8c7662be",
   "metadata": {},
   "outputs": [],
   "source": [
    "@dataclass\n",
    "class Bookshelf:\n",
    "    books:list"
   ]
  },
  {
   "cell_type": "code",
   "execution_count": 49,
   "id": "d9d7a0b9",
   "metadata": {},
   "outputs": [],
   "source": [
    "shelf1 = Bookshelf([1, 2])\n",
    "shelf2 = Bookshelf([3, 4])"
   ]
  },
  {
   "cell_type": "code",
   "execution_count": null,
   "id": "8d368d83",
   "metadata": {},
   "outputs": [],
   "source": []
  }
 ],
 "metadata": {
  "kernelspec": {
   "display_name": "Python 3 (ipykernel)",
   "language": "python",
   "name": "python3"
  },
  "language_info": {
   "codemirror_mode": {
    "name": "ipython",
    "version": 3
   },
   "file_extension": ".py",
   "mimetype": "text/x-python",
   "name": "python",
   "nbconvert_exporter": "python",
   "pygments_lexer": "ipython3",
   "version": "3.9.7"
  }
 },
 "nbformat": 4,
 "nbformat_minor": 5
}
