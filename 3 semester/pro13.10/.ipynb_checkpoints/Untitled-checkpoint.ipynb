{
 "cells": [
  {
   "cell_type": "code",
   "execution_count": null,
   "id": "fbdf9a67",
   "metadata": {},
   "outputs": [],
   "source": [
    "# closure\n",
    "def ext(func):\n",
    "    def inner(x, y):\n",
    "        if y == 0:\n",
    "            print('Cannot divide by zero')\n",
    "            return\n",
    "        return func(x, y)\n",
    "    return inner\n",
    "\n",
    "@ext\n",
    "def func(x, y):\n",
    "    return x / y"
   ]
  },
  {
   "cell_type": "code",
   "execution_count": null,
   "id": "ac352cd5",
   "metadata": {},
   "outputs": [],
   "source": [
    "# это декоратор:\n",
    "class A:\n",
    "    @staticmethod\n",
    "    def staticmeth(x):\n",
    "        return x\n",
    "    \n",
    "    @classmethod\n",
    "    ...\n",
    "    \n",
    "    \n",
    "    \n",
    "class A:\n",
    "    def staticmeth(x):\n",
    "        return x\n",
    "    staticmeth = staticmethod(staticmeth)"
   ]
  },
  {
   "cell_type": "code",
   "execution_count": 1,
   "id": "c2d5ec21",
   "metadata": {},
   "outputs": [],
   "source": [
    "class Person:\n",
    "    def __init__(self):\n",
    "        self.__name = ''\n",
    "        \n",
    "    @property    \n",
    "    def name(self): #name - имя аттрибута\n",
    "        return self.__name\n",
    "    \n",
    "    @name.setter\n",
    "    def name(self, val):\n",
    "        self.__name = val\n",
    "    \n",
    "    @name.deleter\n",
    "    def name(self):\n",
    "        del self.__name"
   ]
  },
  {
   "cell_type": "code",
   "execution_count": 2,
   "id": "1fda5a83",
   "metadata": {},
   "outputs": [],
   "source": [
    "p = Person()"
   ]
  },
  {
   "cell_type": "code",
   "execution_count": 3,
   "id": "60eedea2",
   "metadata": {},
   "outputs": [
    {
     "data": {
      "text/plain": [
       "''"
      ]
     },
     "execution_count": 3,
     "metadata": {},
     "output_type": "execute_result"
    }
   ],
   "source": [
    "p.name"
   ]
  },
  {
   "cell_type": "code",
   "execution_count": 4,
   "id": "c2b2732a",
   "metadata": {},
   "outputs": [],
   "source": [
    "p.name = 'Vasya'"
   ]
  },
  {
   "cell_type": "code",
   "execution_count": 7,
   "id": "d22a165d",
   "metadata": {},
   "outputs": [],
   "source": [
    "# closure, замыкание - позволяет проверять аргументы. гард-зиро может \n",
    "# проверять все мои функции на ноль\n",
    "\n",
    "def guard_zero(operate):\n",
    "    def inner(x, y):\n",
    "        if y == 0:\n",
    "            print('Cannot divide by zero')\n",
    "            return\n",
    "        return operate (x, y)\n",
    "    return inner\n"
   ]
  },
  {
   "cell_type": "code",
   "execution_count": 8,
   "id": "ad0f5d1c",
   "metadata": {},
   "outputs": [],
   "source": [
    "def true_divide(x, y):\n",
    "    return x / y\n",
    "\n",
    "def divide(x, y):\n",
    "    return x // y\n",
    "\n",
    "divide = guard_zero(divide)\n",
    "true_divide = guard_zero(true_divide)"
   ]
  },
  {
   "cell_type": "code",
   "execution_count": 10,
   "id": "53f2e773",
   "metadata": {},
   "outputs": [
    {
     "data": {
      "text/plain": [
       "1"
      ]
     },
     "execution_count": 10,
     "metadata": {},
     "output_type": "execute_result"
    }
   ],
   "source": [
    "true_divide(4,3)\n",
    "divide(4,3)"
   ]
  },
  {
   "cell_type": "code",
   "execution_count": 11,
   "id": "f3c50a38",
   "metadata": {},
   "outputs": [],
   "source": [
    "#с собачкой то же самое можно написать\n",
    "\n",
    "@guard_zero\n",
    "def true_divide(x, y):\n",
    "    return x / y\n",
    "\n",
    "@guard_zero\n",
    "def divide(x, y):\n",
    "    return x // y"
   ]
  },
  {
   "cell_type": "code",
   "execution_count": 13,
   "id": "58db6370",
   "metadata": {},
   "outputs": [],
   "source": [
    "def decorator(func):\n",
    "    def wrapped(*args, **kwargs): #kwargs - key-word arguments\n",
    "        print('do something')\n",
    "        result = func(*args, **kwargs)\n",
    "        return result\n",
    "    return wrapped\n",
    "\n",
    "@decorator\n",
    "def myfunc():\n",
    "    pass\n",
    "\n",
    "# переменные будут где-то храниться\n",
    "\n",
    "@decorator\n",
    "def myfunc(a, b):\n",
    "    print(a + b)"
   ]
  },
  {
   "cell_type": "code",
   "execution_count": 19,
   "id": "ad3b2473",
   "metadata": {},
   "outputs": [],
   "source": [
    "# @decorator(...) - совсем сложно и мы использовать не будем, т.к. это не \n",
    "# декоратор, а декоратор декораторов (то есть фабрика декораторов)\n",
    "\n",
    "def decodeco(arg1, arg2, arg3):\n",
    "    def wrap(f): # f = myfunc\n",
    "        print('Inside wrap')\n",
    "        def wrapped_f(*args):\n",
    "            print('Inside wrapped f')\n",
    "            print(*args)\n",
    "            print(arg1, arg2, arg3)\n",
    "            f(*args)\n",
    "            print('After')\n",
    "        return wrapped_f\n",
    "    return wrap"
   ]
  },
  {
   "cell_type": "code",
   "execution_count": 20,
   "id": "dfed6692",
   "metadata": {},
   "outputs": [
    {
     "name": "stdout",
     "output_type": "stream",
     "text": [
      "Inside wrap\n",
      "Inside wrapped f\n",
      "this is a decorator\n",
      "1 2 3\n",
      "this is a decorator\n",
      "After\n"
     ]
    }
   ],
   "source": [
    "@decodeco(1, 2, 3)\n",
    "def myfunc(a1, a2, a3, a4):\n",
    "    print(a1, a2, a3, a4)\n",
    "    \n",
    "myfunc('this', 'is', 'a', 'decorator')"
   ]
  },
  {
   "cell_type": "code",
   "execution_count": 21,
   "id": "c8550e24",
   "metadata": {},
   "outputs": [],
   "source": [
    "# это все означает, что по сути\n",
    "# myfunc = decodeco(...(myfunc))"
   ]
  },
  {
   "cell_type": "code",
   "execution_count": 31,
   "id": "038e71bd",
   "metadata": {},
   "outputs": [
    {
     "name": "stdout",
     "output_type": "stream",
     "text": [
      "Decorator for concatenation\n",
      "Decorator for summation\n"
     ]
    }
   ],
   "source": [
    "def decodecorator (dataType, message1, message2):\n",
    "    def decorator(func):\n",
    "        print(message1)\n",
    "        def wrapper(*args, **kwargs):\n",
    "            print(message2)\n",
    "            if all([type(arg) == dataType for arg in args]):\n",
    "                return func(*args, **kwargs)\n",
    "            return \"Invalid input\"\n",
    "        return wrapper\n",
    "    return decorator\n",
    "\n",
    "@decodecorator(str, 'Decorator for concatenation', 'stringJoin started...')\n",
    "def stringJoin(*args):\n",
    "    res = ''\n",
    "    for arg in args:\n",
    "        res += arg\n",
    "    return res\n",
    "    \n",
    "@decodecorator(int, 'Decorator for summation', 'summation started...')\n",
    "def summation(*args):\n",
    "    res = 0\n",
    "    for arg in args:\n",
    "        res += arg\n",
    "    return res"
   ]
  },
  {
   "cell_type": "code",
   "execution_count": 32,
   "id": "628f4e6c",
   "metadata": {},
   "outputs": [
    {
     "name": "stdout",
     "output_type": "stream",
     "text": [
      "stringJoin started...\n"
     ]
    },
    {
     "data": {
      "text/plain": [
       "'123'"
      ]
     },
     "execution_count": 32,
     "metadata": {},
     "output_type": "execute_result"
    }
   ],
   "source": [
    "stringJoin('1','2','3')"
   ]
  },
  {
   "cell_type": "code",
   "execution_count": 33,
   "id": "3eebbb01",
   "metadata": {},
   "outputs": [
    {
     "name": "stdout",
     "output_type": "stream",
     "text": [
      "summation started...\n"
     ]
    },
    {
     "data": {
      "text/plain": [
       "6"
      ]
     },
     "execution_count": 33,
     "metadata": {},
     "output_type": "execute_result"
    }
   ],
   "source": [
    "summation(1,2,3)"
   ]
  },
  {
   "cell_type": "code",
   "execution_count": 34,
   "id": "db6592a3",
   "metadata": {},
   "outputs": [],
   "source": [
    "class tracer:\n",
    "    '''декоратор-класс для функции'''\n",
    "    def __init__(self, func):\n",
    "        self.calls = 0\n",
    "        self.func = func\n",
    "        \n",
    "    def __call__(self, *args):\n",
    "        self.calls += 1\n",
    "        print(f'# of calls: {self.calls}, function: {self.func.__name__}')\n",
    "        return self.func(*args)\n",
    "    \n",
    "@tracer\n",
    "def func(a, b, c):\n",
    "    print(a, b, c)\n",
    "    \n",
    "# func = tracer(func) "
   ]
  },
  {
   "cell_type": "code",
   "execution_count": 35,
   "id": "f699012b",
   "metadata": {},
   "outputs": [
    {
     "name": "stdout",
     "output_type": "stream",
     "text": [
      "# of calls: 1, function: func\n",
      "1 6 3\n"
     ]
    }
   ],
   "source": [
    "func(1, 6, 3)"
   ]
  },
  {
   "cell_type": "code",
   "execution_count": 36,
   "id": "6b35e80d",
   "metadata": {},
   "outputs": [],
   "source": [
    "def decorator(aClass):\n",
    "    aClass.instances = 0\n",
    "    return aClass"
   ]
  },
  {
   "cell_type": "code",
   "execution_count": 51,
   "id": "665420c9",
   "metadata": {},
   "outputs": [],
   "source": [
    "from dataclasses import dataclass, make_dataclass\n",
    "\n",
    "@dataclass\n",
    "class Book:\n",
    "    title: str\n",
    "    author: str\n",
    "        \n",
    "b = Book('was', 'wer')"
   ]
  },
  {
   "cell_type": "code",
   "execution_count": 42,
   "id": "3890fe5a",
   "metadata": {},
   "outputs": [
    {
     "name": "stdout",
     "output_type": "stream",
     "text": [
      "Book(title='was', author='wer')\n"
     ]
    }
   ],
   "source": [
    "print(b)"
   ]
  },
  {
   "cell_type": "code",
   "execution_count": 45,
   "id": "a1525a3f",
   "metadata": {},
   "outputs": [],
   "source": [
    "Book = make_dataclass('Book', ['title','author'])"
   ]
  },
  {
   "cell_type": "code",
   "execution_count": 46,
   "id": "b188ef42",
   "metadata": {},
   "outputs": [
    {
     "name": "stdout",
     "output_type": "stream",
     "text": [
      "<class 'types.Book'>\n"
     ]
    }
   ],
   "source": [
    "print(Book)"
   ]
  },
  {
   "cell_type": "code",
   "execution_count": 47,
   "id": "b35d07db",
   "metadata": {},
   "outputs": [],
   "source": [
    "@dataclass\n",
    "class Bookshelf:\n",
    "    books:list"
   ]
  },
  {
   "cell_type": "code",
   "execution_count": 49,
   "id": "61489c2f",
   "metadata": {},
   "outputs": [],
   "source": [
    "shelf1 = Bookshelf([1, 2])\n",
    "shelf2 = Bookshelf([3, 4])"
   ]
  },
  {
   "cell_type": "code",
   "execution_count": null,
   "id": "c400367f",
   "metadata": {},
   "outputs": [],
   "source": []
  }
 ],
 "metadata": {
  "kernelspec": {
   "display_name": "Python 3 (ipykernel)",
   "language": "python",
   "name": "python3"
  },
  "language_info": {
   "codemirror_mode": {
    "name": "ipython",
    "version": 3
   },
   "file_extension": ".py",
   "mimetype": "text/x-python",
   "name": "python",
   "nbconvert_exporter": "python",
   "pygments_lexer": "ipython3",
   "version": "3.9.7"
  }
 },
 "nbformat": 4,
 "nbformat_minor": 5
}
