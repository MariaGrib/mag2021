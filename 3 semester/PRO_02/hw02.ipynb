{
 "cells": [
  {
   "cell_type": "markdown",
   "id": "9a4d80af-d232-43b9-a24d-33fca4dab435",
   "metadata": {},
   "source": [
    "Единственная задача: обобщить написанный на семинаре код и сымитировать работу одного большого отдела ABBYY, в котором есть три маленьких подотдела с лингвистами, программистами и комплингом. То есть, что у нас должно быть реализовано:\n",
    "\n",
    "- родительский класс \"работник\"\n",
    "- базовые классы \"лингвист\", \"программист\" и \"компьютерный лингвист\"\n",
    "- у всех методы work\n",
    "- классы \"босс_лингвист\", \"босс_программист\" и \"босс_кл\", которые могут наследовать (с подмешиванием) от общего класса \"босс\"\n",
    "- у боссов в атрибутах сидят их подчиненные\n",
    "- босс подотдела получает квесты от менеджера главного отдела и принуждает сотрудников работать\n",
    "- в главном отделе есть метод для выдачи квестов\n",
    "- соответственно, используем как наследование, так и композицию с делегированием"
   ]
  },
  {
   "cell_type": "code",
   "execution_count": 272,
   "id": "4615e11a-f081-41b3-a3eb-d8519e59ef4c",
   "metadata": {},
   "outputs": [],
   "source": [
    "from time import sleep\n",
    "\n",
    "class Employee:\n",
    "    def __init__(self, name, surname):\n",
    "        self.name = name\n",
    "        self.surname = surname\n",
    "        self.salary = 500  # _Employee__salary\n",
    "        self.bankaccount = 0\n",
    "        \n",
    "#     def __repr__(self):\n",
    "#         return f\"Employee('{self.surname}')\"\n",
    "\n",
    "    def work(self, *args):\n",
    "        raise NotImplementedError\n",
    "\n",
    "class Linguist(Employee):\n",
    "    def __init__(self, name, surname, salary_coef):\n",
    "        Employee.__init__(self, name, surname)\n",
    "        self.salary *= salary_coef\n",
    "        self.publications = []\n",
    "        \n",
    "# #     def __repr__(self):\n",
    "# #         return f\"Linguist('{self.surname}')\"\n",
    "#     def __repr__(self):\n",
    "#         return f\"{self.surname}\"\n",
    "    \n",
    "    def work(self, hours, name_of_publ):\n",
    "        print('Working...')\n",
    "        sleep(hours)\n",
    "        self.bankaccount += self.salary * hours\n",
    "        self.publications.append(name_of_publ)\n",
    "        print(f'{self.name} {self.surname} has published a paper {name_of_publ} in Voprosy Yazykoznaniya')\n",
    "\n",
    "    def readlingpapers(self, lingpaper):\n",
    "        print('Reading...')\n",
    "        sleep(len(lingpaper) // 10)\n",
    "        print(f'{self.name} {self.surname} has read {lingpaper}')\n",
    "\n",
    "class Programmer(Employee):\n",
    "    def __init__(self, name, surname, salary_coef):\n",
    "        Employee.__init__(self, name, surname)\n",
    "        self.salary *= salary_coef\n",
    "        self.projects = []\n",
    "        \n",
    "# #     def __repr__(self):\n",
    "# #         return f\"Programmer('{self.surname}')\"\n",
    "#     def __repr__(self):\n",
    "#         return f\"{self.surname}\"\n",
    "\n",
    "    def work(self, hours, name_of_project):\n",
    "        print('Working...')\n",
    "        sleep(hours)\n",
    "        self.bankaccount += self.salary * hours\n",
    "        self.projects.append(name_of_project)\n",
    "        print(f'{self.name} {self.surname} has committed a repo {name_of_project} to GitHub')\n",
    "\n",
    "    def learnpython(self, hours):\n",
    "        print('Studying...')\n",
    "        sleep(hours)\n",
    "        print(f'{self.name} {self.surname} has learned a bit of Python')\n",
    "        \n",
    "class ComputerLinguist(Linguist, Programmer):\n",
    "    def __init__(self, name, surname, salary_coef):\n",
    "        Linguist.__init__(self, name, surname, 1)\n",
    "        Programmer.__init__(self, name, surname, 1)\n",
    "        self.salary *= salary_coef\n",
    "        \n",
    "# #     def __repr__(self):\n",
    "# #         return f\"ComputerLinguist('{self.surname}')\"\n",
    "#     def __repr__(self):\n",
    "#         return f\"{self.surname}\"\n",
    "    \n",
    "    def __str__(self):\n",
    "        return f\"{self.surname}\"\n",
    "\n",
    "    def work(self, hours, name_of_paper_with_code):\n",
    "        print('Working...')\n",
    "        sleep(hours)\n",
    "        self.publications.append(name_of_paper_with_code)\n",
    "        self.projects.append(name_of_paper_with_code)\n",
    "        self.bankaccount += self.salary * hours\n",
    "        print(f'{self.name} {self.surname} has published {name_of_paper_with_code} in ACL Papers')\n",
    "\n",
    "class Chef():\n",
    "    def __init__(self, name, surname, staff):\n",
    "        self.name = name\n",
    "        self.surname = surname\n",
    "        self.salary = 1000\n",
    "        self.bankaccount = 0\n",
    "        self.staff = staff\n",
    "        \n",
    "    def __iter__(self):\n",
    "        for item in staff:\n",
    "            yield print(item.surname)\n",
    "        \n",
    "# #     def staff(self):\n",
    "# #         return f'{self.name} {self.surname}'\n",
    "\n",
    "#     def __repr__(self):\n",
    "#         return f\"Chef('{self.surname}')\"\n",
    "    \n",
    "    def hire(self, staffmember):\n",
    "        self.staff.add(staffmember)\n",
    "\n",
    "class Manager(Employee):\n",
    "    def __init__(self, name, surname):\n",
    "        Employee.__init__(self, name, surname)\n",
    "        self.salary *= 1\n",
    "        self.tasks = ''\n",
    "        \n",
    "    def work(self, hours, task):\n",
    "        self.bankaccount += self.salary * hours\n",
    "        self.tasks = task\n",
    "        \n",
    "\n",
    "class LinguistChef(Chef, Linguist):\n",
    "    def __init__(self, name, surname, salary_coef, staff):\n",
    "        Chef.__init__(self, name, surname, staff)\n",
    "        Linguist.__init__(self, name, surname, salary_coef)\n",
    "        self.staff = staff\n",
    "        \n",
    "    def __iter__(staff):\n",
    "        for item in staff:\n",
    "            yield print(item.surname)\n",
    "        \n",
    "#     def __repr__(self):\n",
    "#         return f\"LinguistChef('{self.name}', '{self.surname}', '{self.staff}')\"\n",
    "    \n",
    "    def work(self, hours, manager):\n",
    "        newworker = ''\n",
    "        for worker in self.staff:\n",
    "            if worker.surname == manager.tasks:\n",
    "                worker.work(1, 'papam')\n",
    "            else:\n",
    "                newworker = manager.tasks.lower()\n",
    "        if newworker:\n",
    "            self.hire(eval(newworker))\n",
    "            eval(newworker).work(1, 'papam')\n",
    "        self.bankaccount += self.salary * hours\n",
    "\n",
    "ivoylova = ComputerLinguist('Alexandra','Ivoylova', 1.5)\n",
    "gorbunova = Linguist('Irina', 'Gorbunova', 1)\n",
    "testelets = LinguistChef('Yakov', 'Testelets', 2, {ivoylova})\n",
    "alyona = Manager('Alena', 'Dubyaga')"
   ]
  },
  {
   "cell_type": "code",
   "execution_count": 273,
   "id": "e74813cb",
   "metadata": {
    "scrolled": true
   },
   "outputs": [
    {
     "name": "stdout",
     "output_type": "stream",
     "text": [
      "Working...\n",
      "Alexandra Ivoylova has published papam in ACL Papers\n"
     ]
    }
   ],
   "source": [
    "alyona.work(1, 'Ivoylova')\n",
    "testelets.work(1, alyona)"
   ]
  },
  {
   "cell_type": "code",
   "execution_count": 274,
   "id": "13dc7cac",
   "metadata": {},
   "outputs": [
    {
     "name": "stdout",
     "output_type": "stream",
     "text": [
      "Working...\n",
      "Irina Gorbunova has published a paper papam in Voprosy Yazykoznaniya\n"
     ]
    }
   ],
   "source": [
    "# for item in testelets.staff:\n",
    "#     item.work(1, 'papam')\n",
    "\n",
    "alyona.work(1, 'Gorbunova')\n",
    "testelets.work(1, alyona)"
   ]
  },
  {
   "cell_type": "code",
   "execution_count": 218,
   "id": "8168c4d1",
   "metadata": {},
   "outputs": [
    {
     "data": {
      "text/plain": [
       "['Gorbunova']"
      ]
     },
     "execution_count": 218,
     "metadata": {},
     "output_type": "execute_result"
    }
   ],
   "source": []
  },
  {
   "cell_type": "code",
   "execution_count": 257,
   "id": "149fcfc0",
   "metadata": {},
   "outputs": [
    {
     "data": {
      "text/plain": [
       "{<__main__.Linguist at 0x17d1413dfa0>,\n",
       " <__main__.ComputerLinguist at 0x17d1413dbb0>}"
      ]
     },
     "execution_count": 257,
     "metadata": {},
     "output_type": "execute_result"
    }
   ],
   "source": [
    "testelets.staff"
   ]
  },
  {
   "cell_type": "code",
   "execution_count": null,
   "id": "2526f63b",
   "metadata": {},
   "outputs": [],
   "source": []
  },
  {
   "cell_type": "code",
   "execution_count": null,
   "id": "52c92daf",
   "metadata": {},
   "outputs": [],
   "source": []
  }
 ],
 "metadata": {
  "kernelspec": {
   "display_name": "Python 3 (ipykernel)",
   "language": "python",
   "name": "python3"
  },
  "language_info": {
   "codemirror_mode": {
    "name": "ipython",
    "version": 3
   },
   "file_extension": ".py",
   "mimetype": "text/x-python",
   "name": "python",
   "nbconvert_exporter": "python",
   "pygments_lexer": "ipython3",
   "version": "3.9.7"
  }
 },
 "nbformat": 4,
 "nbformat_minor": 5
}
