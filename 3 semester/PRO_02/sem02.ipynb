{
 "cells": [
  {
   "cell_type": "code",
   "execution_count": null,
   "metadata": {
    "id": "pN8YVhYmMcMC"
   },
   "outputs": [],
   "source": [
    "from time import sleep\n",
    "\n",
    "class Employee:\n",
    "  def __init__(self, name, surname):\n",
    "    self.name = name\n",
    "    self.surname = surname\n",
    "    self.salary = 350\n",
    "    self.bankaccount = 0\n",
    "\n",
    "  def work(self, *args):\n",
    "    raise NotImplementedError\n",
    "\n",
    "class Linguist(Employee):\n",
    "  def __init__(self, name, surname, salary_coef):\n",
    "    Employee.__init__(self, name, surname)\n",
    "    self.salary *= salary_coef\n",
    "    \n",
    "  def work(self, hours):\n",
    "    sleep(hours)\n",
    "    self.bankaccount += self.salary * hours\n",
    "\n",
    "class LinguistChef(Linguist):\n",
    "  def __init__(self, name, surname, salary_coef, staff):\n",
    "    Linguist.__init__(self, name, surname, salary_coef)\n",
    "    self.staff = staff\n",
    "\n",
    "  def hire_linguist(self, staffmember):\n",
    "    self.staff.add(staffmember)"
   ]
  },
  {
   "cell_type": "code",
   "execution_count": null,
   "metadata": {
    "id": "AWC2d4b1Oqk9"
   },
   "outputs": [],
   "source": [
    "ivoylova = Linguist('Alexandra', 'Ivoylova', 1.5)"
   ]
  },
  {
   "cell_type": "code",
   "execution_count": null,
   "metadata": {
    "id": "5btV1GtdOweK"
   },
   "outputs": [],
   "source": [
    "ivoylova.work(2)"
   ]
  },
  {
   "cell_type": "code",
   "execution_count": null,
   "metadata": {
    "colab": {
     "base_uri": "https://localhost:8080/"
    },
    "id": "e3D73fJ2OzVC",
    "outputId": "2cbc6964-bce0-44d4-c324-4949ecee233f"
   },
   "outputs": [
    {
     "data": {
      "text/plain": [
       "525.0"
      ]
     },
     "execution_count": 4,
     "metadata": {},
     "output_type": "execute_result"
    }
   ],
   "source": [
    "ivoylova.salary"
   ]
  },
  {
   "cell_type": "code",
   "execution_count": null,
   "metadata": {
    "colab": {
     "base_uri": "https://localhost:8080/"
    },
    "id": "G7pJwXcdO1VK",
    "outputId": "13f574b5-3db5-441c-d595-476a9c813ee6"
   },
   "outputs": [
    {
     "data": {
      "text/plain": [
       "1050.0"
      ]
     },
     "execution_count": 5,
     "metadata": {},
     "output_type": "execute_result"
    }
   ],
   "source": [
    "ivoylova.bankaccount"
   ]
  },
  {
   "cell_type": "code",
   "execution_count": null,
   "metadata": {
    "id": "C6jTrhNfO3yS"
   },
   "outputs": [],
   "source": [
    "testelets = LinguistChef('Yakov', 'Testelets', 2, {ivoylova})"
   ]
  },
  {
   "cell_type": "code",
   "execution_count": null,
   "metadata": {
    "colab": {
     "base_uri": "https://localhost:8080/"
    },
    "id": "jLUFLPg9O-wD",
    "outputId": "6ab604da-1089-4154-b3ba-7d2d3aba815f"
   },
   "outputs": [
    {
     "data": {
      "text/plain": [
       "{<__main__.Linguist at 0x7f6165e56710>}"
      ]
     },
     "execution_count": 11,
     "metadata": {},
     "output_type": "execute_result"
    }
   ],
   "source": [
    "testelets.staff"
   ]
  },
  {
   "cell_type": "code",
   "execution_count": null,
   "metadata": {
    "id": "L766TfOvO__C"
   },
   "outputs": [],
   "source": [
    "testelets.work(1)"
   ]
  },
  {
   "cell_type": "code",
   "execution_count": null,
   "metadata": {
    "colab": {
     "base_uri": "https://localhost:8080/"
    },
    "id": "EmR6xSWAPPn0",
    "outputId": "dbd3578b-b1b8-4285-b5e9-42b976492c6e"
   },
   "outputs": [
    {
     "data": {
      "text/plain": [
       "700"
      ]
     },
     "execution_count": 13,
     "metadata": {},
     "output_type": "execute_result"
    }
   ],
   "source": [
    "testelets.bankaccount"
   ]
  },
  {
   "cell_type": "code",
   "execution_count": null,
   "metadata": {
    "id": "I4kaGZ6XPRfq"
   },
   "outputs": [],
   "source": [
    "class Employee:\n",
    "  def __init__(self, name, surname):\n",
    "    self.name = name\n",
    "    self.surname = surname\n",
    "    self.__salary = 350  # _Employee__salary\n",
    "    self.bankaccount = 0\n",
    "\n",
    "  def work(self, *args):\n",
    "    raise NotImplementedError\n",
    "\n",
    "class Linguist(Employee):\n",
    "  def __init__(self, name, surname):\n",
    "    Employee.__init__(self, name, surname)\n",
    "    self.__salary = self._Employee__salary * 1.5\n",
    "    self.publications = []\n",
    "    \n",
    "  def work(self, hours, name_of_publ):\n",
    "    print('Working...')\n",
    "    sleep(hours)\n",
    "    self.bankaccount += self.salary * hours\n",
    "    self.publications.append(name_of_publ)\n",
    "    print(f'{self.name} {self.surname} has published a paper {name_of_publ} in Voprosy Yazykoznaniya')\n",
    "\n",
    "  def readlingpapers(self, lingpaper):\n",
    "    print('Reading...')\n",
    "    sleep(len(lingpaper) // 10)\n",
    "    print(f'{self.name} {self.surname} has read {lingpaper}')\n",
    "\n",
    "class Programmer(Employee):\n",
    "  def __init__(self, name, surname):\n",
    "    Employee.__init__(self, name, surname)\n",
    "    self.__salary *= self._Employee__salary * 2.5\n",
    "    self.projects = []\n",
    "\n",
    "  def work(self, hours, name_of_project):\n",
    "    print('Working...')\n",
    "    sleep(hours)\n",
    "    self.bankaccount += self.salary * hours\n",
    "    self.projects.append(name_of_project)\n",
    "    print(f'{self.name} {self.surname} has committed a repo {name_of_project} to GitHub')\n",
    "\n",
    "  def learnpython(self, hours):\n",
    "    print('Studying...')\n",
    "    sleep(hours)\n",
    "    print(f'{self.name} {self.surname} has learned a bit of Python')"
   ]
  },
  {
   "cell_type": "code",
   "execution_count": null,
   "metadata": {
    "id": "oAiY5voVRBZ3"
   },
   "outputs": [],
   "source": [
    "class ComputerLinguist(Linguist, Programmer):\n",
    "  def __init__(self, name, surname):\n",
    "    Linguist.__init__(self, name, surname)\n",
    "    Programmer.__init__(self, name, surname)\n",
    "    self.salary *= 0.9\n",
    "\n",
    "  def work(self, hours, name_of_paper_with_code):\n",
    "    print('Working...')\n",
    "    sleep(hours)\n",
    "    self.publications.append(name_of_paper_with_code)\n",
    "    self.projects.append(name_of_paper_with_code)\n",
    "    self.bankaccount += self.salary * hours\n",
    "    print(f'{self.name} {self.surname} has published {name_of_paper_with_code} in ACL Papers')"
   ]
  },
  {
   "cell_type": "code",
   "execution_count": null,
   "metadata": {
    "id": "lwH6leijR49Y"
   },
   "outputs": [],
   "source": [
    "gorbunova = Linguist('Ira', 'Gorbunova')\n",
    "savelyev = Programmer('Misha', 'Savelyev')\n",
    "ivoylova = ComputerLinguist('Alexandra', 'Ivoylova')"
   ]
  },
  {
   "cell_type": "code",
   "execution_count": null,
   "metadata": {
    "id": "0vp9TdqidD0H"
   },
   "outputs": [],
   "source": [
    "gorbunova = Linguist('Ira', 'Gorbunova')"
   ]
  },
  {
   "cell_type": "code",
   "execution_count": null,
   "metadata": {
    "colab": {
     "base_uri": "https://localhost:8080/"
    },
    "id": "JIHGbimDSGVo",
    "outputId": "492c4412-7a30-4525-d66a-5148f1f61a05"
   },
   "outputs": [
    {
     "data": {
      "text/plain": [
       "{'name': 'Ira',\n",
       " 'surname': 'Gorbunova',\n",
       " '_Employee__salary': 350,\n",
       " 'bankaccount': 0,\n",
       " '_Linguist__salary': 525.0,\n",
       " 'publications': []}"
      ]
     },
     "execution_count": 98,
     "metadata": {},
     "output_type": "execute_result"
    }
   ],
   "source": [
    "gorbunova.__dict__"
   ]
  },
  {
   "cell_type": "code",
   "execution_count": null,
   "metadata": {
    "colab": {
     "base_uri": "https://localhost:8080/"
    },
    "id": "fIr47oYbSHZq",
    "outputId": "c424532f-2534-4999-b04b-632e867b27c6"
   },
   "outputs": [
    {
     "data": {
      "text/plain": [
       "875.0"
      ]
     },
     "execution_count": 18,
     "metadata": {},
     "output_type": "execute_result"
    }
   ],
   "source": [
    "savelyev.salary"
   ]
  },
  {
   "cell_type": "code",
   "execution_count": null,
   "metadata": {
    "colab": {
     "base_uri": "https://localhost:8080/"
    },
    "id": "5cc5U0bcSJgr",
    "outputId": "63c0982a-c729-4668-ab8b-28ba77e75239"
   },
   "outputs": [
    {
     "name": "stdout",
     "output_type": "stream",
     "text": [
      "Working...\n",
      "Alexandra Ivoylova has published a paper Slavic NER in Voprosy Yazykoznaniya\n"
     ]
    }
   ],
   "source": [
    "ivoylova.work(2, 'Slavic NER')"
   ]
  },
  {
   "cell_type": "code",
   "execution_count": null,
   "metadata": {
    "colab": {
     "base_uri": "https://localhost:8080/"
    },
    "id": "yZh7jpanSLMy",
    "outputId": "964d0b72-feff-4afa-930e-e04be6266cf1"
   },
   "outputs": [
    {
     "name": "stdout",
     "output_type": "stream",
     "text": [
      "Studying...\n",
      "Alexandra Ivoylova has learned a bit of Python\n"
     ]
    }
   ],
   "source": [
    "ivoylova.learnpython(2)"
   ]
  },
  {
   "cell_type": "code",
   "execution_count": null,
   "metadata": {
    "id": "TK1drSIPSQUL"
   },
   "outputs": [],
   "source": [
    "# Method resolution order (MRO)  from bottom & from left\n",
    "\n",
    "# Employee\n",
    "# Linguist Programmer\n",
    "#   CL"
   ]
  },
  {
   "cell_type": "code",
   "execution_count": null,
   "metadata": {
    "id": "d3cByX6GUSK2"
   },
   "outputs": [],
   "source": [
    "class Employee:\n",
    "  def __init__(self, name, surname):\n",
    "    self.name = name\n",
    "    self.surname = surname\n",
    "    self.salary = 350\n",
    "    self.bankaccount = 0\n",
    "\n",
    "  def work(self, *args):\n",
    "    raise NotImplementedError\n",
    "\n",
    "  def sleep(self, message):\n",
    "    print(message)\n",
    "\n",
    "class Linguist:\n",
    "  def __init__(self, name, surname, salary_coef):\n",
    "    self.employee = Employee(name, surname)\n",
    "    self.employee.salary *= salary_coef\n",
    "  \n",
    "  def work(self, hours):\n",
    "    print('Working...')\n",
    "    sleep(hours)\n",
    "    self.employee.bankaccount += hours * self.employee.salary\n",
    "\n",
    "  def sleep(self, message):\n",
    "    self.employee.sleep(message)  # делегирование\n",
    "\n",
    "  def __getattr__(self, attr):\n",
    "    print(f'{attr} is called')\n",
    "    return getattr(self.employee, attr)\n",
    "\n",
    "  def __setattr__(self, attr, value):\n",
    "    print(f'trying to set attr {attr}')\n",
    "    self.__dict__[attr] = value"
   ]
  },
  {
   "cell_type": "code",
   "execution_count": null,
   "metadata": {
    "colab": {
     "base_uri": "https://localhost:8080/"
    },
    "id": "JpIeMze4U1-3",
    "outputId": "93a48e61-e19b-4d6a-9b83-901443886b6b"
   },
   "outputs": [
    {
     "name": "stdout",
     "output_type": "stream",
     "text": [
      "trying to set attr employee\n"
     ]
    }
   ],
   "source": [
    "ivoylova = Linguist('Alexandra', 'Ivoylova', 1.5)"
   ]
  },
  {
   "cell_type": "code",
   "execution_count": null,
   "metadata": {
    "colab": {
     "base_uri": "https://localhost:8080/"
    },
    "id": "f0jLJXYCU5oe",
    "outputId": "867d0aaa-41cc-466a-cae5-5fd37371e18c"
   },
   "outputs": [
    {
     "name": "stdout",
     "output_type": "stream",
     "text": [
      "Working...\n"
     ]
    }
   ],
   "source": [
    "ivoylova.work(2)"
   ]
  },
  {
   "cell_type": "code",
   "execution_count": null,
   "metadata": {
    "colab": {
     "base_uri": "https://localhost:8080/"
    },
    "id": "e0PT3e8zVozq",
    "outputId": "a41d408b-ba97-4692-e42a-4aab86b9e1bf"
   },
   "outputs": [
    {
     "name": "stdout",
     "output_type": "stream",
     "text": [
      "trying to set attr age\n"
     ]
    }
   ],
   "source": [
    "ivoylova.age = 12"
   ]
  },
  {
   "cell_type": "code",
   "execution_count": null,
   "metadata": {
    "colab": {
     "base_uri": "https://localhost:8080/"
    },
    "id": "K7usSCBGWnpy",
    "outputId": "22e09aa8-4879-4908-b6b9-ef9e93468f50"
   },
   "outputs": [
    {
     "data": {
      "text/plain": [
       "{'employee': <__main__.Employee at 0x7f61590a7950>, 'age': 12}"
      ]
     },
     "execution_count": 62,
     "metadata": {},
     "output_type": "execute_result"
    }
   ],
   "source": [
    "ivoylova.__dict__"
   ]
  },
  {
   "cell_type": "code",
   "execution_count": null,
   "metadata": {
    "id": "eB_6udoiWpx0"
   },
   "outputs": [],
   "source": [
    "dir(Linguist)"
   ]
  },
  {
   "cell_type": "code",
   "execution_count": null,
   "metadata": {
    "id": "wn0IsOAaYjdc"
   },
   "outputs": [],
   "source": [
    "class Employee:\n",
    "  def __init__(self, name, surname):\n",
    "    self.name = name\n",
    "    self.surname = surname\n",
    "    self.salary = 350\n",
    "    self.bankaccount = 0\n",
    "\n",
    "  def work(self, *args):\n",
    "    raise NotImplementedError\n",
    "\n",
    "  def __repr__(self):\n",
    "    return f\"{self.__class__.__name__}('{self.name}', '{self.surname}')\""
   ]
  },
  {
   "cell_type": "code",
   "execution_count": null,
   "metadata": {
    "id": "VH-YlSEKY-y5"
   },
   "outputs": [],
   "source": [
    "r = Employee('Bob', 'Jones')"
   ]
  },
  {
   "cell_type": "code",
   "execution_count": null,
   "metadata": {
    "colab": {
     "base_uri": "https://localhost:8080/"
    },
    "id": "C1isulpjZCwg",
    "outputId": "2f9594a6-f05f-4509-de27-d31069f6fd8f"
   },
   "outputs": [
    {
     "data": {
      "text/plain": [
       "Employee('Bob', 'Jones')"
      ]
     },
     "execution_count": 75,
     "metadata": {},
     "output_type": "execute_result"
    }
   ],
   "source": [
    "r"
   ]
  },
  {
   "cell_type": "code",
   "execution_count": null,
   "metadata": {
    "id": "XccIh3nkZymd"
   },
   "outputs": [],
   "source": [
    "class ARD:\n",
    "  def __init__(self, *args):\n",
    "    self.members = list(args)\n",
    "\n",
    "  def add_member(self, linguist):\n",
    "    self.members.append(linguist)\n",
    "\n",
    "  def raise_salary(self, coef):\n",
    "    for linguist in self.members:\n",
    "      linguist.salary *= coef\n",
    "\n",
    "  def workEveryone(self, hour):\n",
    "    for linguist in self.members:\n",
    "      linguist.work(hour)"
   ]
  },
  {
   "cell_type": "code",
   "execution_count": null,
   "metadata": {
    "colab": {
     "base_uri": "https://localhost:8080/"
    },
    "id": "a5DEm-QTabSC",
    "outputId": "40ad5dee-b7f9-443d-a092-81858b9b2da0"
   },
   "outputs": [
    {
     "name": "stdout",
     "output_type": "stream",
     "text": [
      "trying to set attr employee\n"
     ]
    }
   ],
   "source": [
    "ard = ARD(ivoylova, Linguist('Yakov', 'Testelets', 2))"
   ]
  },
  {
   "cell_type": "code",
   "execution_count": null,
   "metadata": {
    "colab": {
     "base_uri": "https://localhost:8080/"
    },
    "id": "QsWXhgv6aoOY",
    "outputId": "9bbdfaa6-4a1d-4af1-a1ab-bf3f1ab83f7d"
   },
   "outputs": [
    {
     "name": "stdout",
     "output_type": "stream",
     "text": [
      "salary is called\n",
      "trying to set attr salary\n",
      "salary is called\n",
      "trying to set attr salary\n"
     ]
    }
   ],
   "source": [
    "ard.raise_salary(1.1)"
   ]
  },
  {
   "cell_type": "code",
   "execution_count": null,
   "metadata": {
    "colab": {
     "base_uri": "https://localhost:8080/"
    },
    "id": "FK7YWZWTar7X",
    "outputId": "1124ad23-c63f-4e52-d9ca-8e8ab06f8eab"
   },
   "outputs": [
    {
     "data": {
      "text/plain": [
       "577.5"
      ]
     },
     "execution_count": 79,
     "metadata": {},
     "output_type": "execute_result"
    }
   ],
   "source": [
    "ivoylova.salary"
   ]
  },
  {
   "cell_type": "code",
   "execution_count": null,
   "metadata": {
    "id": "xwlhw1f8atGs"
   },
   "outputs": [],
   "source": [
    "class Wrapper:\n",
    "  def __init__(self, object):\n",
    "    self.wrapped = object\n",
    "  \n",
    "  def __getattr__(self, attr):\n",
    "    print(f'Big brother is watching you, here is your {attr}')\n",
    "    return getattr(self.wrapped, attr)"
   ]
  },
  {
   "cell_type": "code",
   "execution_count": null,
   "metadata": {
    "id": "qemEw171cEpL"
   },
   "outputs": [],
   "source": [
    "w = Wrapper(gorbunova)"
   ]
  },
  {
   "cell_type": "code",
   "execution_count": null,
   "metadata": {
    "colab": {
     "base_uri": "https://localhost:8080/",
     "height": 53
    },
    "id": "gz7KZDnpcUyv",
    "outputId": "24c5e08b-5dac-4426-e524-07f3af59f951"
   },
   "outputs": [
    {
     "name": "stdout",
     "output_type": "stream",
     "text": [
      "Big brother is watching you, here is your name\n"
     ]
    },
    {
     "data": {
      "application/vnd.google.colaboratory.intrinsic+json": {
       "type": "string"
      },
      "text/plain": [
       "'Ira'"
      ]
     },
     "execution_count": 87,
     "metadata": {},
     "output_type": "execute_result"
    }
   ],
   "source": [
    "w.name"
   ]
  },
  {
   "cell_type": "code",
   "execution_count": null,
   "metadata": {
    "id": "pqaAQTIncVbv"
   },
   "outputs": [],
   "source": [
    "# один большой отдел (ARD) 3 подотдела: лингвисты, программисты, комплинг, боссы, у всех своя зп и методы работы, босс получает \n",
    "# заказы и делегирует сотрудникам (логгинг (сообщения))"
   ]
  }
 ],
 "metadata": {
  "colab": {
   "provenance": []
  },
  "kernelspec": {
   "display_name": "Python 3 (ipykernel)",
   "language": "python",
   "name": "python3"
  },
  "language_info": {
   "codemirror_mode": {
    "name": "ipython",
    "version": 3
   },
   "file_extension": ".py",
   "mimetype": "text/x-python",
   "name": "python",
   "nbconvert_exporter": "python",
   "pygments_lexer": "ipython3",
   "version": "3.9.7"
  }
 },
 "nbformat": 4,
 "nbformat_minor": 1
}
