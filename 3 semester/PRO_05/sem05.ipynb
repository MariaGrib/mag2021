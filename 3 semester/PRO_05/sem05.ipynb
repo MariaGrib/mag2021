{
 "cells": [
  {
   "cell_type": "markdown",
   "id": "d915d0f8-1496-42cf-9b8c-8198f13f8c89",
   "metadata": {},
   "source": [
    "#### Задача 1. \n",
    "\n",
    "Перепишем код про температуру у человека с декоратором property."
   ]
  },
  {
   "cell_type": "code",
   "execution_count": 1,
   "id": "21e9ec0a-a22c-4756-887b-4acd79c4cfd5",
   "metadata": {},
   "outputs": [],
   "source": [
    "class Patient:\n",
    "    \n",
    "#     __slots__ = ('name', 'diagnosis', '__temperature')\n",
    "    \n",
    "    def __init__(self, name, diagnosis, __temperature=None):\n",
    "        self.name = name\n",
    "        self.diagnosis = diagnosis\n",
    "        self.__temperature = __temperature #__ - скрытый динамический атрибут, не устанавливаем, он внутренний\n",
    "        \n",
    "    def get_temp(self):\n",
    "        print('getting')\n",
    "        return self.__temperature\n",
    "        \n",
    "    def set_temp(self, t):\n",
    "        print('setting')\n",
    "        if type(t) in [int, float] and 34 <= t <= 45: \n",
    "            self.__temperature = t\n",
    "        else:\n",
    "            print ('зачем у вас такая температура')\n",
    "\n",
    "    def del_temp(self):\n",
    "        print('deleting')\n",
    "        del self.__temperature\n",
    "    \n",
    "    temperature = property(get_temp, set_temp, del_temp) # статический аттрибут класса, который на самом деле дескриптор\n",
    "    # property - это тоже дескриптор. VAsya.temperature - обращаемся к дескриптору. реальный наш динамический аттрибут\n",
    "#     -- это внутренний, скрытый, __temperature\n",
    "\n",
    "\n",
    "class Person:\n",
    "    def __init__(self):\n",
    "        self.__name = ''\n",
    "        \n",
    "    @property    \n",
    "    def name(self): #name - имя аттрибута\n",
    "        return self.__name\n",
    "    \n",
    "    @name.setter\n",
    "    def name(self, val):\n",
    "        self.__name = val\n",
    "    \n",
    "    @name.deleter\n",
    "    def name(self):\n",
    "        del self.__name\n",
    "        \n",
    "        \n",
    "class Patient:  \n",
    "    \n",
    "    def __init__(self, name, diagnosis, __temperature=None):\n",
    "        self.name = name\n",
    "        self.diagnosis = diagnosis\n",
    "        self.__temperature = __temperature #__ - скрытый динамический атрибут, не устанавливаем, он внутренний\n",
    "    \n",
    "    @property\n",
    "    def temperature(self):\n",
    "        print('getting')\n",
    "        return self.__temperature\n",
    "    \n",
    "    @name.setter\n",
    "    def temperature(self, t):\n",
    "        print('setting')\n",
    "        if type(t) in [int, float] and 34 <= t <= 45: \n",
    "            self.__temperature = t\n",
    "        else:\n",
    "            print ('зачем у вас такая температура')\n",
    "\n",
    "    @temperature.deleter\n",
    "    def temperature(self):\n",
    "        print('deleting')\n",
    "        del self.__temperature"
   ]
  },
  {
   "cell_type": "markdown",
   "id": "dd2ac1e8-c936-47e1-9a1b-5617cb9792c0",
   "metadata": {},
   "source": [
    "#### Задача 2. \n",
    "\n",
    "Допустим, у нас есть функция, которая возвращает сумму своих аргументов. Напишите декоратор, который будет позволять такой функции складывать попарно элементы в кортежах, которые передаются списком, то есть, список [(1, 2), (3, 4)] вернет [3, 7]."
   ]
  },
  {
   "cell_type": "code",
   "execution_count": 14,
   "id": "ac58caf5-6658-40c0-a25a-2c0441687d80",
   "metadata": {},
   "outputs": [
    {
     "name": "stdout",
     "output_type": "stream",
     "text": [
      "unzip...\n",
      "starting wrapper...\n"
     ]
    },
    {
     "data": {
      "text/plain": [
       "[13, 3, 6]"
      ]
     },
     "execution_count": 14,
     "metadata": {},
     "output_type": "execute_result"
    }
   ],
   "source": [
    "# # closure\n",
    "# def ext(func):\n",
    "#     def inner(x, y):\n",
    "#         if y == 0:\n",
    "#             print('Cannot divide by zero')\n",
    "#             return\n",
    "#         return func(x, y)\n",
    "#     return inner\n",
    "\n",
    "# @ext\n",
    "# def func(x, y):\n",
    "#     return x / y\n",
    "\n",
    "# closure\n",
    "# def unzip(func):\n",
    "#     print('unzip...')\n",
    "#     def wrapper(*args):\n",
    "#         print('starting wrapper...')\n",
    "#         if all([type(arg) == tuple for arg in args]):\n",
    "#             res = [0] * len(args[0])\n",
    "#             for arg in args:\n",
    "#                 print(arg)\n",
    "#                 for i in range(len(args[0])):\n",
    "#                     res[i] += arg[i]\n",
    "#             return res\n",
    "#         return func(a, b)\n",
    "#     return wrapper\n",
    "\n",
    "def unzip(func):\n",
    "    print('unzip...')\n",
    "    def wrapper(*args):\n",
    "        print('starting wrapper...')\n",
    "        if all([type(arg) == tuple for arg in args]):\n",
    "            res = []\n",
    "            for arg in args:\n",
    "                res.append(func(*arg))\n",
    "            return res\n",
    "        return func(a, b)\n",
    "    return wrapper\n",
    "\n",
    "@unzip\n",
    "def summarize(a, b):\n",
    "    return a + b\n",
    "\n",
    "# def summarize(a, b):\n",
    "#     return a+b\n",
    "\n",
    "summarize((4,9),(1,2),(5,1))\n",
    "# summarize(a,b)\n",
    "\n"
   ]
  },
  {
   "cell_type": "code",
   "execution_count": 13,
   "id": "9b3c0ae6",
   "metadata": {},
   "outputs": [
    {
     "data": {
      "text/plain": [
       "[4]"
      ]
     },
     "execution_count": 13,
     "metadata": {},
     "output_type": "execute_result"
    }
   ],
   "source": [
    "r = []\n",
    "r.append(4)\n",
    "r"
   ]
  },
  {
   "cell_type": "markdown",
   "id": "f675ff3b-6cee-45d2-8663-99dfc66a1241",
   "metadata": {},
   "source": [
    "#### Задача 3. (\\*)\n",
    "\n",
    "Расширьте декоратор таким образом, чтобы а) элементов в кортеже могло быть сколько угодно и они суммировались все б) декоратор был рекурсивным и умел отыскивать самые вложенные кортежи/списки и складывать их элементы, например: \n",
    "[[1, 2], [3, 4]], [[3, 4]] = 17\n",
    "При этом вложенные числа должны быть все на одном уровне (то есть, не может оказаться, чтобы в списке был и список, и число). "
   ]
  },
  {
   "cell_type": "code",
   "execution_count": null,
   "id": "10da31d3-a499-4995-9866-0beb72bb57e3",
   "metadata": {},
   "outputs": [],
   "source": [
    "#your code here"
   ]
  },
  {
   "cell_type": "markdown",
   "id": "7c3f5b85-5d69-4f24-a0a6-2e4e29525b1c",
   "metadata": {},
   "source": [
    "#### Задача 4. \n",
    "\n",
    "Перепишите класс Token с использованием декоратора dataclass."
   ]
  }
 ],
 "metadata": {
  "kernelspec": {
   "display_name": "Python 3 (ipykernel)",
   "language": "python",
   "name": "python3"
  },
  "language_info": {
   "codemirror_mode": {
    "name": "ipython",
    "version": 3
   },
   "file_extension": ".py",
   "mimetype": "text/x-python",
   "name": "python",
   "nbconvert_exporter": "python",
   "pygments_lexer": "ipython3",
   "version": "3.9.7"
  }
 },
 "nbformat": 4,
 "nbformat_minor": 5
}
