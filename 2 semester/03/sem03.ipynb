{
 "cells": [
  {
   "cell_type": "markdown",
   "id": "ba600c89-abb4-470e-b804-5bca53bcf811",
   "metadata": {},
   "source": [
    "#### Задача 1.\n",
    "\n",
    "Подумайте, как упростить следующий код:"
   ]
  },
  {
   "cell_type": "code",
   "execution_count": null,
   "id": "3442b842-808e-4018-85a2-47c80c3144e7",
   "metadata": {},
   "outputs": [
    {
     "name": "stdout",
     "output_type": "stream",
     "text": [
      "Введите элемент: masha\n",
      "Введите элемент: маша\n",
      "mashcha\n",
      "Введите элемент: 4\n",
      "четыре\n",
      "Введите элемент: 34\n"
     ]
    }
   ],
   "source": [
    "# Хорошо) можно было еще использовать enumerate\n",
    "# И не заводить много переменных, а сразу вкладывать, н-р, dict(zip(...))\n",
    "def printdigit(x):\n",
    "    keys = list(range(0,10))\n",
    "    values = ['ноль','один', 'два', 'три', 'четыре', 'пять', 'шесть', 'семь', 'восемь', 'девять']\n",
    "    zip_iterator = zip(keys, values)\n",
    "    d = dict(zip_iterator)\n",
    "    print(d.get(int(x)))\n",
    "\n",
    "\n",
    "# Можно было в zip прямо строку передать.\n",
    "def transcription(string):\n",
    "    d = dict(zip(['а','б','в','г','д','е','ё','ж','з','и','й','к','л','м','н','о','п','р','с','т','у','ф','х','ц','ч','ш','щ','ъ','ы','ь','э','ю','я'],\n",
    "                 ['a', 'b', 'v', 'g', 'd', 'je', 'jo', 'zh', 'z', 'i', 'j', 'k', 'l', 'm', 'n', 'o', 'p', 'r', 's', 't', 'u', 'f', 'h', 'ts', 'sh', 'shch', '`', 'y', '`', 'e', 'ju', 'ja']))\n",
    "    trans = ''\n",
    "    \n",
    "    for letter in string.lower():\n",
    "        trans += d.get(letter)\n",
    "    return trans\n",
    "\n",
    "transcription('Маша')\n",
    "        \n",
    "# def transcription(string):\n",
    "#     cyrillic = 'абвгдеёжзийклмнопрстуфхцчшщъыьэюя'\n",
    "#     latin = ['a', 'b', 'v', 'g', 'd', 'je', 'jo', 'zh', 'z', 'i', 'j', 'k', 'l', 'm', 'n', 'o', 'p', 'r', 's', 't', 'u', 'f', 'h', 'ts', 'sh', 'shch', '`', 'y', '`', 'e', 'ju', 'ja' ]\n",
    "#     trans = ''\n",
    "#     for letter in string:\n",
    "#         index = cyrillic.find(letter)\n",
    "#         trans += latin[index]\n",
    "#     return trans\n",
    "        \n",
    "\n",
    "while True:\n",
    "    if x.isdigit() and len(x) == 1:\n",
    "        printdigit(x)\n",
    "    elif x.isalpha():\n",
    "        checker = 0\n",
    "        for letter in x:\n",
    "            if letter not in 'абвгдеёжзийклмнопрстуфхцчшщъыьэюя':\n",
    "                checker = 1\n",
    "        if checker == 0:\n",
    "            print(transcription(x))    \n",
    "    x = input('Введите элемент: ')\n",
    "    if x.lower == 'стоп':\n",
    "        break"
   ]
  },
  {
   "cell_type": "markdown",
   "id": "c393987a-9081-410a-aa94-f20b8a28966f",
   "metadata": {},
   "source": [
    "#### Задача 2.\n",
    "\n",
    "Напишем фрагмент некоей игры, где пользователь выбирает, хочет он создать героя-волшебника или воина. После создания (фантазия здесь не ограничена: можете приписать какие угодно атрибуты, но обязательно должны быть классические здоровье, магия и стамина) персонаж должен поприветствовать своего игрока, причем у волшебника одно приветствие, а у воина - другое. У обоих должны быть методы hit и restore_health, причем волшебник для удара тратит магию, а боец стамину, а restore_health может, например, проверять, есть ли в инвентаре у персонажа зелье магии или стамины. "
   ]
  },
  {
   "cell_type": "code",
   "execution_count": 18,
   "id": "941fcdcb-7af5-47fb-805d-ce283998552c",
   "metadata": {},
   "outputs": [
    {
     "name": "stdout",
     "output_type": "stream",
     "text": [
      "ноль\n"
     ]
    }
   ],
   "source": [
    "class Hero:\n",
    "    def __init__(self, name, health, magic, stamina):\n",
    "        self.name = name\n",
    "        self.health = health\n",
    "        self.magic = magic\n",
    "        self.stamina = stamina\n",
    "    \n",
    "    def __str__(self):\n",
    "        pass\n",
    "    \n",
    "    def __repr__(self):\n",
    "        return f\"Fighter('{self.name}', {self.health}, {self.armor}, {self.strength})\"\n",
    "    \n",
    "    # метод, кт. проверяет, осталось ли у игрока здоровье\n",
    "    def __bool__(self):\n",
    "        return True if (self.health > 0) else False\n",
    "    \n",
    "    def greeting(self):\n",
    "        raise NotImplementedError\n",
    "    \n",
    "    # урон вычисляется по формуле здоровье ударенного = (сила удара бьющего/ броня ударенного),\n",
    "    # т.е. чем лучше броня, тем меньше урон от удара\n",
    "    def hit(self, other):\n",
    "        other.health -= (self.strength/other.armor)\n",
    "        other.health = round(other.health,3)\n",
    "        print(f\"{self.name} hits {other.name};                \", end = '')\n",
    "    \n",
    "    def restore_health(self):\n",
    "        self.health += 0.1 \n",
    "        self.health = round(self.health,3)\n",
    "        print(f\"{self.name} went to drink some water;  \", end = '')\n",
    "        \n",
    "    def __bool__(self):\n",
    "        return True if (self.health > 0) else False\n",
    "\n",
    "class Warrior(Hero):\n",
    "    pass\n",
    "\n",
    "class Wizard(Hero):\n",
    "\n",
    "    \n"
   ]
  },
  {
   "cell_type": "markdown",
   "id": "47f7702c-e390-4960-b7e3-0ced4d25f273",
   "metadata": {},
   "source": [
    "#### Задача 3.\n",
    "\n",
    "Напишите скрипт, в котором будет одна-две любых функции и пара глобальных переменных. Импортируйте этот скрипт в другой и вызовите свои функции. "
   ]
  },
  {
   "cell_type": "markdown",
   "id": "2bafecdd-dbce-44dd-be4d-9140cc446038",
   "metadata": {},
   "source": [
    "#### Задача 4.\n",
    "\n",
    "Расширим наш пакет: заведем второй скрипт с любым содержимым + как минимум одна переменная, сложим оба скрипта в отдельную папочку и заведем \\_\\_init\\_\\_.py, в котором будет инициализироваться какая-нибудь переменная. Импортируем в главный скрипт наш модуль с помощью import, вызовем функции подмодулей, выведем их переменные. "
   ]
  }
 ],
 "metadata": {
  "kernelspec": {
   "display_name": "Python 3 (ipykernel)",
   "language": "python",
   "name": "python3"
  },
  "language_info": {
   "codemirror_mode": {
    "name": "ipython",
    "version": 3
   },
   "file_extension": ".py",
   "mimetype": "text/x-python",
   "name": "python",
   "nbconvert_exporter": "python",
   "pygments_lexer": "ipython3",
   "version": "3.9.7"
  }
 },
 "nbformat": 4,
 "nbformat_minor": 5
}
