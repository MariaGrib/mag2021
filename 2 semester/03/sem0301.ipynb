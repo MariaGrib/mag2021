{
 "cells": [
  {
   "cell_type": "markdown",
   "id": "c6eff2ab-82a7-4389-8506-a0fe983285cd",
   "metadata": {},
   "source": [
    "## Парадигмы"
   ]
  },
  {
   "cell_type": "code",
   "execution_count": null,
   "id": "bf77c03b-2a98-4e8b-93ea-65541c9b8e94",
   "metadata": {},
   "outputs": [],
   "source": [
    "class Animal:\n",
    "    def __init__(self, name):\n",
    "        self.name = name\n",
    "        \n",
    "    def speak(self):\n",
    "        raise NotImplementedError\n",
    "        \n",
    "class Cat(Animal):\n",
    "    def speak(self):\n",
    "        return \"Meow!\"\n",
    "    \n",
    "class Dog(Animal):\n",
    "    def speak(self):\n",
    "        return \"Gav\""
   ]
  },
  {
   "cell_type": "code",
   "execution_count": null,
   "id": "56f4cb20",
   "metadata": {},
   "outputs": [],
   "source": []
  },
  {
   "cell_type": "code",
   "execution_count": null,
   "id": "723bf8c5",
   "metadata": {},
   "outputs": [],
   "source": [
    "\n",
    "        "
   ]
  }
 ],
 "metadata": {
  "kernelspec": {
   "display_name": "Python 3 (ipykernel)",
   "language": "python",
   "name": "python3"
  },
  "language_info": {
   "codemirror_mode": {
    "name": "ipython",
    "version": 3
   },
   "file_extension": ".py",
   "mimetype": "text/x-python",
   "name": "python",
   "nbconvert_exporter": "python",
   "pygments_lexer": "ipython3",
   "version": "3.9.7"
  }
 },
 "nbformat": 4,
 "nbformat_minor": 5
}
