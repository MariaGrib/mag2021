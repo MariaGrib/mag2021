{
 "cells": [
  {
   "cell_type": "markdown",
   "id": "d8580683-cd6b-46a2-a36a-74da6df9f75a",
   "metadata": {
    "tags": []
   },
   "source": [
    "#### Задача 1.\n",
    "\n",
    "Создайте массив размера 8х8 и заполните его нулями и единицами так, чтобы получилась шахматная доска:\n",
    "\n",
    "    0 1 0 1 0 1 0 1\n",
    "    1 0 1 0 1 0 1 0\n",
    "    ...\n",
    "    \n",
    "Подсказка: можно использовать срезы с шагом. Также можно посмотреть функцию tile()."
   ]
  },
  {
   "cell_type": "code",
   "execution_count": 62,
   "id": "b4eb7a28-4fa4-4873-921e-893e65140426",
   "metadata": {},
   "outputs": [
    {
     "data": {
      "text/plain": [
       "array([[0, 1, 0, 1, 0, 1, 0, 1],\n",
       "       [1, 0, 1, 0, 1, 0, 1, 0],\n",
       "       [0, 1, 0, 1, 0, 1, 0, 1],\n",
       "       [1, 0, 1, 0, 1, 0, 1, 0],\n",
       "       [0, 1, 0, 1, 0, 1, 0, 1],\n",
       "       [1, 0, 1, 0, 1, 0, 1, 0],\n",
       "       [0, 1, 0, 1, 0, 1, 0, 1],\n",
       "       [1, 0, 1, 0, 1, 0, 1, 0]])"
      ]
     },
     "execution_count": 62,
     "metadata": {},
     "output_type": "execute_result"
    }
   ],
   "source": [
    "import numpy as np\n",
    "arr = np.array(3)\n",
    "arr1 = np.array([1,2,3,4,5])\n",
    "arr2 = np.array([[1,2],[3,4]])\n",
    "arr3 = np.array([[[1,2,3],[4,5,6]],[[7,8,9],[1,2,3]]]) #список списков списков\n",
    "\n",
    "arr3.dtype\n",
    "arr1.ndim\n",
    "\n",
    "arrr = np.array([1,2,3,4,5,6],ndmin = 2)\n",
    "\n",
    "\n",
    "arrrr = np.arange(1,13)\n",
    "ar1 = arrrr.reshape(3,4)\n",
    "ar1.base\n",
    "ar1\n",
    "ar1.view()\n",
    "\n",
    "ar0 = np.arange(1,14)\n",
    "\n",
    "ar7 = np.array([1,3,4,5,2,3,5,2,3,42,3,2,3])\n",
    "np.where(ar7 == 5)\n",
    "np.where(arr3 == 1)\n",
    "\n",
    "arbase = np.array([[0,1],[1,0]])\n",
    "ar = arbase\n",
    "for x in range(0,3):\n",
    "    ar = np.concatenate((arbase,ar))\n",
    "\n",
    "\n",
    "ar1 = ar\n",
    "for x in range(0,3):\n",
    "    ar1 = np.concatenate((ar,ar1), axis = 1)\n",
    "ar1\n",
    "\n",
    "\n",
    "\n",
    "ar\n"
   ]
  },
  {
   "cell_type": "markdown",
   "id": "b184526c-86fd-4c47-b90f-6a835294ba36",
   "metadata": {},
   "source": [
    "#### Задача 2.\n",
    "\n",
    "Создайте два массива одинакового размера со случайными числами. Упорядочьте эти числа по возрастанию. Постройте график с этими массивами (один из них будет x, другой y)"
   ]
  },
  {
   "cell_type": "code",
   "execution_count": 71,
   "id": "a49322ba-b85a-4f69-99fa-75dcc0c8d772",
   "metadata": {},
   "outputs": [
    {
     "data": {
      "image/png": "[encoded data removed]",
      "text/plain": [
       "<Figure size 432x288 with 1 Axes>"
      ]
     },
     "metadata": {
      "needs_background": "light"
     },
     "output_type": "display_data"
    }
   ],
   "source": [
    "import matplotlib.pyplot as plt\n",
    "import numpy as np\n",
    "\n",
    "# fig = plt.figure()\n",
    "# ax = fig.add_subplot(111)\n",
    "# fig.set(facecolor = 'green')\n",
    "# ax.set(facecolor = 'blue')\n",
    "# plt.show()\n",
    "\n",
    "# X = ['a','b','c','d']\n",
    "# Y = [34,123,67,45]\n",
    "# fig = plt.figure()\n",
    "# ax = fig.add_subplot(111)\n",
    "# ax.plot(X,Y, 'bo')\n",
    "# plt.show()\n",
    "\n",
    "x_axis = np.arange(30)\n",
    "x = np.sort(np.random.randint(100, size = (30)))\n",
    "y = np.sort(np.random.randint(100, size = (30)))\n",
    "\n",
    "fig = plt.figure()\n",
    "ax = fig.add_subplot(111)\n",
    "ax.plot(x_axis,x,'bo')\n",
    "ax.plot(x_axis,y,'x')\n",
    "plt.show()\n",
    "\n",
    "\n",
    "# x1 = np.sort(x)\n",
    "# x1\n",
    "\n",
    "# fig = plt.figure()\n"
   ]
  },
  {
   "cell_type": "code",
   "execution_count": null,
   "id": "6f7ccd1b",
   "metadata": {},
   "outputs": [],
   "source": [
    "\n"
   ]
  },
  {
   "cell_type": "code",
   "execution_count": null,
   "id": "c97161ff",
   "metadata": {},
   "outputs": [],
   "source": [
    "\n"
   ]
  }
 ],
 "metadata": {
  "kernelspec": {
   "display_name": "Python 3 (ipykernel)",
   "language": "python",
   "name": "python3"
  },
  "language_info": {
   "codemirror_mode": {
    "name": "ipython",
    "version": 3
   },
   "file_extension": ".py",
   "mimetype": "text/x-python",
   "name": "python",
   "nbconvert_exporter": "python",
   "pygments_lexer": "ipython3",
   "version": "3.9.7"
  }
 },
 "nbformat": 4,
 "nbformat_minor": 5
}
