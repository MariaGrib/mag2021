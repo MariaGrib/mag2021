{
 "cells": [
  {
   "cell_type": "markdown",
   "id": "bbf560ca-07fb-4555-b3e7-441c5e4c289d",
   "metadata": {},
   "source": [
    "Зарегистрируйтесь на kaggle.com (можно просто использовать аккаунт почты). Скачайте датасет [E-Commerce Shipping Data](https://www.kaggle.com/datasets/prachi13/customer-analytics). "
   ]
  },
  {
   "cell_type": "markdown",
   "id": "a8be82cd-41ae-4a75-84c5-9f378c92ab8c",
   "metadata": {},
   "source": [
    "#### Задача 1. \n",
    "\n",
    "Изучите содержимое датасета. Проверим, что описание на каггле правильное: какие в датасете есть колонки, какие у них уникальные значения, есть ли пропуски?"
   ]
  },
  {
   "cell_type": "code",
   "execution_count": 5,
   "id": "ebf56981-a2a4-45e2-8ecc-ffcbba31b01f",
   "metadata": {},
   "outputs": [
    {
     "name": "stdout",
     "output_type": "stream",
     "text": [
      "<class 'pandas.core.frame.DataFrame'>\n",
      "RangeIndex: 10999 entries, 0 to 10998\n",
      "Data columns (total 12 columns):\n",
      " #   Column               Non-Null Count  Dtype \n",
      "---  ------               --------------  ----- \n",
      " 0   ID                   10999 non-null  int64 \n",
      " 1   Warehouse_block      10999 non-null  object\n",
      " 2   Mode_of_Shipment     10999 non-null  object\n",
      " 3   Customer_care_calls  10999 non-null  int64 \n",
      " 4   Customer_rating      10999 non-null  int64 \n",
      " 5   Cost_of_the_Product  10999 non-null  int64 \n",
      " 6   Prior_purchases      10999 non-null  int64 \n",
      " 7   Product_importance   10999 non-null  object\n",
      " 8   Gender               10999 non-null  object\n",
      " 9   Discount_offered     10999 non-null  int64 \n",
      " 10  Weight_in_gms        10999 non-null  int64 \n",
      " 11  Reached.on.Time_Y.N  10999 non-null  int64 \n",
      "dtypes: int64(8), object(4)\n",
      "memory usage: 1.0+ MB\n"
     ]
    },
    {
     "data": {
      "text/plain": [
       "ID                     False\n",
       "Warehouse_block        False\n",
       "Mode_of_Shipment       False\n",
       "Customer_care_calls    False\n",
       "Customer_rating        False\n",
       "Cost_of_the_Product    False\n",
       "Prior_purchases        False\n",
       "Product_importance     False\n",
       "Gender                 False\n",
       "Discount_offered       False\n",
       "Weight_in_gms          False\n",
       "Reached.on.Time_Y.N    False\n",
       "dtype: bool"
      ]
     },
     "execution_count": 5,
     "metadata": {},
     "output_type": "execute_result"
    }
   ],
   "source": [
    "import pandas as pd\n",
    "\n",
    "data = pd.read_csv('Train.csv')\n",
    "\n",
    "data.head()\n",
    "\n",
    "data.info()\n",
    "\n",
    "data.isna().any()"
   ]
  },
  {
   "cell_type": "markdown",
   "id": "bb464368-a342-4f50-8595-5a219511f5da",
   "metadata": {},
   "source": [
    "#### Задача 2.\n",
    "\n",
    "Замените значения в колонке с важностью продукта на цифровые. Примените OHE к колонке Mode_of_Shipment. Удалите колонку с ID."
   ]
  },
  {
   "cell_type": "code",
   "execution_count": 26,
   "id": "9f6fd958-6143-4e9b-be15-70ccbd8b222e",
   "metadata": {},
   "outputs": [
    {
     "name": "stdout",
     "output_type": "stream",
     "text": [
      "<class 'pandas.core.frame.DataFrame'>\n",
      "RangeIndex: 10999 entries, 0 to 10998\n",
      "Data columns (total 14 columns):\n",
      " #   Column               Non-Null Count  Dtype \n",
      "---  ------               --------------  ----- \n",
      " 0   Warehouse_block      10999 non-null  object\n",
      " 1   Mode_of_Shipment     10999 non-null  object\n",
      " 2   Customer_care_calls  10999 non-null  int64 \n",
      " 3   Customer_rating      10999 non-null  int64 \n",
      " 4   Cost_of_the_Product  10999 non-null  int64 \n",
      " 5   Prior_purchases      10999 non-null  int64 \n",
      " 6   Product_importance   10999 non-null  int64 \n",
      " 7   Gender               10999 non-null  object\n",
      " 8   Discount_offered     10999 non-null  int64 \n",
      " 9   Weight_in_gms        10999 non-null  int64 \n",
      " 10  Reached.on.Time_Y.N  10999 non-null  int64 \n",
      " 11  Shipment_Flight      10999 non-null  uint8 \n",
      " 12  Shipment_Road        10999 non-null  uint8 \n",
      " 13  Shipment_Ship        10999 non-null  uint8 \n",
      "dtypes: int64(8), object(3), uint8(3)\n",
      "memory usage: 977.6+ KB\n"
     ]
    }
   ],
   "source": [
    "import pandas as pd\n",
    "\n",
    "data = pd.read_csv('Train.csv')\n",
    "data.drop('ID', axis = 1, inplace = True)\n",
    "\n",
    "# data.info()\n",
    "data.head()\n",
    "set(data.Product_importance)\n",
    "data['Product_importance'] = data['Product_importance'].map({'high': 3, 'medium': 2, 'low': 1})\n",
    "data.head()\n",
    "new_cols = pd.get_dummies(data.Mode_of_Shipment, prefix = 'Shipment')\n",
    "df = pd.concat([data, new_cols], axis=1)\n",
    "df.info()"
   ]
  },
  {
   "cell_type": "markdown",
   "id": "0b7eeb5d-9489-4fa8-80ae-4e689636a504",
   "metadata": {},
   "source": [
    "#### Задача 3. \n",
    "\n",
    "Сгруппируйте таблицу по важности продукта. "
   ]
  },
  {
   "cell_type": "code",
   "execution_count": 28,
   "id": "67b32a85-9996-430d-aaa7-3de3595f883d",
   "metadata": {},
   "outputs": [
    {
     "data": {
      "text/html": [
       "<div>\n",
       "<style scoped>\n",
       "    .dataframe tbody tr th:only-of-type {\n",
       "        vertical-align: middle;\n",
       "    }\n",
       "\n",
       "    .dataframe tbody tr th {\n",
       "        vertical-align: top;\n",
       "    }\n",
       "\n",
       "    .dataframe thead th {\n",
       "        text-align: right;\n",
       "    }\n",
       "</style>\n",
       "<table border=\"1\" class=\"dataframe\">\n",
       "  <thead>\n",
       "    <tr style=\"text-align: right;\">\n",
       "      <th></th>\n",
       "      <th>Customer_care_calls</th>\n",
       "      <th>Customer_rating</th>\n",
       "      <th>Cost_of_the_Product</th>\n",
       "      <th>Prior_purchases</th>\n",
       "      <th>Discount_offered</th>\n",
       "      <th>Weight_in_gms</th>\n",
       "      <th>Reached.on.Time_Y.N</th>\n",
       "    </tr>\n",
       "    <tr>\n",
       "      <th>Product_importance</th>\n",
       "      <th></th>\n",
       "      <th></th>\n",
       "      <th></th>\n",
       "      <th></th>\n",
       "      <th></th>\n",
       "      <th></th>\n",
       "      <th></th>\n",
       "    </tr>\n",
       "  </thead>\n",
       "  <tbody>\n",
       "    <tr>\n",
       "      <th>1</th>\n",
       "      <td>4.110251</td>\n",
       "      <td>2.983576</td>\n",
       "      <td>212.059845</td>\n",
       "      <td>3.528224</td>\n",
       "      <td>13.043043</td>\n",
       "      <td>3497.488956</td>\n",
       "      <td>0.592788</td>\n",
       "    </tr>\n",
       "    <tr>\n",
       "      <th>2</th>\n",
       "      <td>4.028607</td>\n",
       "      <td>2.997686</td>\n",
       "      <td>209.382415</td>\n",
       "      <td>3.593605</td>\n",
       "      <td>13.483172</td>\n",
       "      <td>3712.050484</td>\n",
       "      <td>0.590450</td>\n",
       "    </tr>\n",
       "    <tr>\n",
       "      <th>3</th>\n",
       "      <td>3.872363</td>\n",
       "      <td>2.993671</td>\n",
       "      <td>203.871308</td>\n",
       "      <td>3.657173</td>\n",
       "      <td>14.666667</td>\n",
       "      <td>4005.551688</td>\n",
       "      <td>0.649789</td>\n",
       "    </tr>\n",
       "  </tbody>\n",
       "</table>\n",
       "</div>"
      ],
      "text/plain": [
       "                    Customer_care_calls  Customer_rating  Cost_of_the_Product  \\\n",
       "Product_importance                                                              \n",
       "1                              4.110251         2.983576           212.059845   \n",
       "2                              4.028607         2.997686           209.382415   \n",
       "3                              3.872363         2.993671           203.871308   \n",
       "\n",
       "                    Prior_purchases  Discount_offered  Weight_in_gms  \\\n",
       "Product_importance                                                     \n",
       "1                          3.528224         13.043043    3497.488956   \n",
       "2                          3.593605         13.483172    3712.050484   \n",
       "3                          3.657173         14.666667    4005.551688   \n",
       "\n",
       "                    Reached.on.Time_Y.N  \n",
       "Product_importance                       \n",
       "1                              0.592788  \n",
       "2                              0.590450  \n",
       "3                              0.649789  "
      ]
     },
     "execution_count": 28,
     "metadata": {},
     "output_type": "execute_result"
    }
   ],
   "source": [
    "data.groupby('Product_importance').mean()"
   ]
  },
  {
   "cell_type": "markdown",
   "id": "0fa23d5e-9815-4736-8563-720588c1786c",
   "metadata": {},
   "source": [
    "#### Агрегирование\n",
    "\n",
    "Теперь поработаем с другим датасетом. "
   ]
  },
  {
   "cell_type": "code",
   "execution_count": null,
   "id": "d6c5b870-f00b-48d9-8e99-0605c27265e7",
   "metadata": {},
   "outputs": [],
   "source": [
    "# df = pd.read_excel(\"https://github.com/dm-fedorov/pandas_basic/raw/master/%D0%B1%D1%8B%D1%81%D1%82%D1%80%D0%BE%D0%B5%20%D0%B2%D0%B2%D0%B5%D0%B4%D0%B5%D0%BD%D0%B8%D0%B5%20%D0%B2%20pandas/data/salesfunnel.xlsx\")\n",
    "# df.head()\n",
    "pip install "
   ]
  }
 ],
 "metadata": {
  "kernelspec": {
   "display_name": "Python 3 (ipykernel)",
   "language": "python",
   "name": "python3"
  },
  "language_info": {
   "codemirror_mode": {
    "name": "ipython",
    "version": 3
   },
   "file_extension": ".py",
   "mimetype": "text/x-python",
   "name": "python",
   "nbconvert_exporter": "python",
   "pygments_lexer": "ipython3",
   "version": "3.9.7"
  }
 },
 "nbformat": 4,
 "nbformat_minor": 5
}
