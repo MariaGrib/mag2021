{
 "cells": [
  {
   "cell_type": "markdown",
   "id": "77f4da5e-7810-47eb-8886-2d092b947c49",
   "metadata": {},
   "source": [
    "#### Задача 1.\n",
    "\n",
    "Поиграем в цензуру: в тексте встречается (в разных падежах и числах) слово \"наркотик\" на три звездочки. "
   ]
  },
  {
   "cell_type": "code",
   "execution_count": 8,
   "id": "91ce8e72-a5a2-458a-a789-214cc7cf731a",
   "metadata": {},
   "outputs": [
    {
     "data": {
      "text/plain": [
       "re.compile(r'(?i)\\bнаркотик.*?\\b', re.IGNORECASE|re.UNICODE)"
      ]
     },
     "execution_count": 8,
     "metadata": {},
     "output_type": "execute_result"
    }
   ],
   "source": [
    "import re\n",
    "text = 'жил-был наркотик, он наркотики искал и наркотиком остался'\n",
    "pattern = re.compile(r'(?i)\\bнаркотик.*?\\b')\n",
    "re.sub(pattern, '***', text)"
   ]
  },
  {
   "cell_type": "markdown",
   "id": "32ca92d3-606b-4d12-86f6-a79d8cee72c3",
   "metadata": {},
   "source": [
    "#### Задача 2.\n",
    "\n",
    "В тексте встречаются e-mail адреса. Найдите все эти адреса и выделите их прямо в тексте заглавными буквами (т.е., в тексте адрес вида myaddress@mail.com должен замениться на MYADDRESS@MAIL.COM)"
   ]
  },
  {
   "cell_type": "code",
   "execution_count": 13,
   "id": "33baffb6-3e32-4a7e-a8b4-a0bce72ab677",
   "metadata": {},
   "outputs": [
    {
     "data": {
      "text/plain": [
       "'MYADDR@GMAIL.COM MYADDR123_2@YANDEX.RU'"
      ]
     },
     "execution_count": 13,
     "metadata": {},
     "output_type": "execute_result"
    }
   ],
   "source": [
    "import re\n",
    "text = 'myaddr@gmail.com myaddr123_2@yandex.ru'\n",
    "pattern = re.compile(r\"(?i)\\b[-_a-z\\d.]+@[a-z]+\\.[a-z]+\\b\")\n",
    "re.sub(pattern, lambda x: x.group().upper(), text)"
   ]
  },
  {
   "cell_type": "markdown",
   "id": "7d6d6a2d-5597-4659-9f4b-966c84182249",
   "metadata": {},
   "source": [
    "#### Задача 3.\n",
    "\n",
    "Напишем программу - телефонный справочник. У пользователя есть выбор из двух действий (ну кроме выхода): ввести новую запись и найти из существующих. База данных должна записываться в любом формате, который вам нравится, и считываться заново при запуске программы. Можете использовать для хранения классы, но это необязательно. Главное: программа должна при вводе проверять, что номер телефона действительно соответствует формату (формат определите сами, какой вам больше нравится - хх-хх-хх, х(ххх)хх-хх-хх...) "
   ]
  },
  {
   "cell_type": "code",
   "execution_count": 55,
   "id": "6b3d149a-c8b3-4132-8693-97943beb1622",
   "metadata": {},
   "outputs": [
    {
     "name": "stdout",
     "output_type": "stream",
     "text": [
      "Здравствуйте! Это телефонный справочник Москвы\n",
      "\n",
      "Выберите действие: 1 - ввести новую запись, 2 - найти из существующих: 2\n",
      "Введите фамилию:ma\n",
      "ma: +7(985)020-02-53\n"
     ]
    },
    {
     "data": {
      "text/plain": [
       "dict_items([('ma', '+7(985)020-02-53')])"
      ]
     },
     "execution_count": 55,
     "metadata": {},
     "output_type": "execute_result"
    }
   ],
   "source": [
    "# d = {}\n",
    "\n",
    "\n",
    "\n",
    "# # dict.setdefault(key[, default])\n",
    "\n",
    "# # for x in range(len(cats)):\n",
    "# #     xentry = cats[x]\n",
    "# #     xkey = f'{xentry[2]} {xentry[3]}'\n",
    "# #     d.setdefault(xkey, [])\n",
    "# #     d[xkey].append(xentry[0])\n",
    "# #     d[xkey].append(xentry[1])\n",
    "\n",
    "\n",
    "class Dictionary():\n",
    "    def __init__(self):\n",
    "        self.d = {}\n",
    "        \n",
    "#     def __str__(self):\n",
    "#         self.d.items()\n",
    "        \n",
    "    def add_item(self,phone,family_name):\n",
    "        self.d.setdefault(family_name, [])\n",
    "        self.d[family_name].append(phone)\n",
    "    \n",
    "    def find_item(self,family_name):\n",
    "        self.d.get(family_name) \n",
    "        \n",
    "# # hameleon = Dictionary();\n",
    "# # family_name = 'PEtrov'\n",
    "# # number = '234'\n",
    "# # hameleon.add_item(number,family_name)\n",
    "# # print(hameleon)\n",
    "import re\n",
    "# text = 'жил-был +7(956)559-59-85 +7(956)559-69-85 +7(956)559-69-85'\n",
    "\n",
    "\n",
    "# d = {}\n",
    "pattern = re.compile(r\"\\+\\d\\(\\d{3}\\)\\d{3}-\\d{2}-\\d{2}\")\n",
    "\n",
    "print('Здравствуйте! Это телефонный справочник Москвы\\n')\n",
    "action = input('Выберите действие: 1 - ввести новую запись, 2 - найти из существующих: ')\n",
    "if (action == '1'):\n",
    "    family_name = input('Введите фамилию: ')\n",
    "    phone = input('Введите номер: ')\n",
    "    if re.fullmatch(pattern, phone):\n",
    "        d.setdefault(family_name, phone)\n",
    "    \n",
    "elif (action == '2'):\n",
    "    family_check = input('Введите фамилию:')\n",
    "    print(f'{family_name}: {d.get(family_name)}')\n",
    "# d = {}\n",
    "\n",
    "# # family_name = 'PEtrov'\n",
    "# # number = '234'\n",
    "# # \n",
    "# # d.items()\n",
    "\n",
    "# # d.get(family_name)\n",
    "# re.sub(pattern, '***', text)\n",
    "\n",
    "# +7(985)020-02-53\n",
    "\n"
   ]
  },
  {
   "cell_type": "markdown",
   "id": "98be954f-bddd-414c-95c3-25760ac294e6",
   "metadata": {},
   "source": [
    "#### Задача 4.\n",
    "\n",
    "Напишите самый простой токенизатор: он должен захватывать стандартные знаки препинания, русские и английские слова (символы с диакритиками не берем в расчет). Сам токенизатор должен быть функцией, которая возвращает список объектов класса Token, у которых есть форма (собственно текст) и тип: пунктуация или слово. За слово (англ или рус) считаем любую последовательность букв одного алфавита, внутри которой может быть один или несколько дефисов, при этом дефисы не могут быть с краев и идти подряд. Подумайте, как определение класса реализовать с помощью групп. "
   ]
  },
  {
   "cell_type": "code",
   "execution_count": 106,
   "id": "5f20ba42-1623-470e-be30-f2ad4b4988c6",
   "metadata": {},
   "outputs": [
    {
     "data": {
      "text/plain": [
       "['я пришел - их было один-два и т.д',\n",
       " '. ',\n",
       " '.',\n",
       " None,\n",
       " None,\n",
       " 'два',\n",
       " '?.. ',\n",
       " '?..',\n",
       " None,\n",
       " None,\n",
       " 'три',\n",
       " '...!?! ',\n",
       " '...!?!',\n",
       " None,\n",
       " None,\n",
       " 'они тут',\n",
       " '?... ',\n",
       " '?...',\n",
       " None,\n",
       " None,\n",
       " 'пять',\n",
       " '... ',\n",
       " '...',\n",
       " None,\n",
       " None,\n",
       " 'т.е. т.к. в 190 г. их было 7 тыс. вместо \\nтрех',\n",
       " '. ',\n",
       " '.',\n",
       " None,\n",
       " None,\n",
       " 'А Василий Петрович Полухин, т.е. В.П. Полухин, когда гулял с Т.А. Сибиряковой, \\nвдруг сказал:',\n",
       " None,\n",
       " None,\n",
       " ' \"',\n",
       " None,\n",
       " 'Милая, как красиво поют птички!',\n",
       " None,\n",
       " None,\n",
       " None,\n",
       " '\"',\n",
       " ' А потом она ответила:',\n",
       " None,\n",
       " None,\n",
       " ' \"',\n",
       " None,\n",
       " 'Да\"',\n",
       " '.\\n',\n",
       " '.',\n",
       " None,\n",
       " None,\n",
       " 'А еще был такой мастер - Т. Красильников']"
      ]
     },
     "execution_count": 106,
     "metadata": {},
     "output_type": "execute_result"
    }
   ],
   "source": [
    "import re\n",
    "\n",
    "text = '''я пришел - их было один-два и т.д. два?.. три...!?! они тут?... пять... т.е. т.к. в 190 г. их было 7 тыс. вместо \n",
    "трех. А Василий Петрович Полухин, т.е. В.П. Полухин, когда гулял с Т.А. Сибиряковой, \n",
    "вдруг сказал: \"Милая, как красиво поют птички!\" А потом она ответила: \"Да\".\n",
    "А еще был такой мастер - Т. Красильников'''\n",
    "\n",
    "\n",
    "\n",
    "\n",
    "def mysentenizer(text):\n",
    "    pattern = re.compile(r'((?<!т.к|т.е|тыс|..г|[А-Я].[А-Я]|..[А-Я])([.?!]+)\\s)|((?<=[:-])\\s\")|((?<=[.?!])\")')\n",
    "    return re.split(pattern, text)\n",
    "\n",
    "mysentenizer(text)\n",
    "    \n",
    "\n",
    "    # т.д. и т.п. обычно и стоят в конце предложения\n",
    "# (?<!  ) ретроспективная негативная проверка -- смотрим, чтобы перед знаками препинания не было т.д, тыс, г, а также инициалов\n",
    "# (двух больших букв). \n",
    "\n",
    "# re.split(pattern, text)\n",
    "\n",
    "# pattern = re.compile(r'(?<!т.к|т.е|тыс|..г|[А-Я].[А-Я])([\".?!]+)\\s')\n"
   ]
  },
  {
   "cell_type": "code",
   "execution_count": null,
   "id": "ad42e572",
   "metadata": {},
   "outputs": [],
   "source": []
  }
 ],
 "metadata": {
  "kernelspec": {
   "display_name": "Python 3 (ipykernel)",
   "language": "python",
   "name": "python3"
  },
  "language_info": {
   "codemirror_mode": {
    "name": "ipython",
    "version": 3
   },
   "file_extension": ".py",
   "mimetype": "text/x-python",
   "name": "python",
   "nbconvert_exporter": "python",
   "pygments_lexer": "ipython3",
   "version": "3.9.7"
  }
 },
 "nbformat": 4,
 "nbformat_minor": 5
}
