{
 "cells": [
  {
   "cell_type": "markdown",
   "id": "0c9fde94-7105-4f20-b17e-95f6a43628da",
   "metadata": {
    "tags": []
   },
   "source": [
    "#### Общие задачи"
   ]
  },
  {
   "cell_type": "markdown",
   "id": "3533676a-ca6f-45e8-810f-414a01b84595",
   "metadata": {},
   "source": [
    "Задание 1. \n",
    "\n",
    "Напишите класс для хранения информации о токене. Класс должен хранить следующую информацию: словоформа, лемма и часть речи. Определите минимум три магических метода для этого класса. "
   ]
  },
  {
   "cell_type": "code",
   "execution_count": 5,
   "id": "a981e4aa-14a7-46d2-8f34-8adc4ebeb264",
   "metadata": {},
   "outputs": [
    {
     "name": "stdout",
     "output_type": "stream",
     "text": [
      "словоформой: словоформа, N\n"
     ]
    },
    {
     "data": {
      "text/plain": [
       "Token('словоформой', 'словоформа', N)"
      ]
     },
     "execution_count": 5,
     "metadata": {},
     "output_type": "execute_result"
    }
   ],
   "source": [
    "class Token:\n",
    "    def __init__(self, word, lemma, pos):\n",
    "        self.word = word\n",
    "        self.lemma = lemma\n",
    "        self.pos = pos\n",
    "        \n",
    "    def __str__(self):\n",
    "        return f'{self.word}: {self.lemma}, {self.pos}'\n",
    "    \n",
    "    def __repr__(self):\n",
    "        return f\"Token('{self.word}', '{self.lemma}', {self.pos})\"\n",
    "    \n",
    "slovo = Token('словоформой', 'словоформа', 'N')\n",
    "print(slovo)\n",
    "slovo"
   ]
  },
  {
   "cell_type": "markdown",
   "id": "c36b9c2e-e87b-4766-82ba-7893ba9e52e1",
   "metadata": {},
   "source": [
    "Задание 2. \n",
    "\n",
    "Напишите игру, в которой будут сражаться два противника. Для этой игры понадобится модуль random и класс Fighter. Можете дорабатывать игру, как хотите, но базовый комплект такой:\n",
    "\n",
    "1. Класс \"боец\", у которого есть здоровье, броня и сила удара;\n",
    "2. Цикл, в котором пользователь может выбирать \"начать игру\" и \"выйти\";\n",
    "3. \"Игральная кость\", которая определяет, какой из двух бойцов бьет;\n",
    "4. Цикл, в котором бойцы бьют друг друга в зависимости от игральной кости;\n",
    "5. Урон вычисляется по формуле здоровье ударенного -= (сила удара бьющего - броня ударенного)\n",
    "6. Предусмотрите случай, когда сила удара бьющего меньше значения брони ударенного - иначе получите бесконечный цикл. \n",
    "\n",
    "В качестве варианта можно заменить броню на dodge, который меняется в зависимости от \"удачи\". Поскольку графический интерфейс мы не делаем, не забудьте понаписать комментариев! Предлагаю для красоты использовать модуль colorama, который позволит расцветить текст в терминале."
   ]
  },
  {
   "cell_type": "code",
   "execution_count": 47,
   "id": "cc116817-96c5-469d-b40f-604402835d56",
   "metadata": {},
   "outputs": [
    {
     "name": "stdout",
     "output_type": "stream",
     "text": [
      "Would you like to play? Press enter if yes, press any key if no: \n",
      "While playing, press enter to continue, any othe key to stop.\n",
      "Would you allow fighters to replenish their health? Press enter if yes, press any key if no: \n",
      "vasya went to drink some water;  vasya: 8.1   petya: 3    \n",
      "\n",
      "petya went to drink some water;  vasya: 8.1   petya: 3.1  \n",
      "\n",
      "vasya hits petya;                vasya: 8.1   petya: 2.975\n",
      "\n",
      "vasya went to drink some water;  vasya: 8.2   petya: 2.975\n",
      "\n",
      "petya went to drink some water;  vasya: 8.2   petya: 3.075\n",
      "d\n",
      "You've decided to stop the game, petya is grateful to you for that!\n"
     ]
    }
   ],
   "source": [
    "import random\n",
    "# класс \"боец\"\n",
    "class Fighter:\n",
    "    def __init__(self, name, health, armor, strength):\n",
    "        self.name = name\n",
    "        self.health = health\n",
    "        self.armor = armor\n",
    "        self.strength = strength\n",
    "    \n",
    "    def __str__(self):\n",
    "        pass\n",
    "    \n",
    "    def __repr__(self):\n",
    "        return f\"Fighter('{self.name}', {self.health}, {self.armor}, {self.strength})\"\n",
    "    \n",
    "    # метод, кт. проверяет, осталось ли у игрока здоровье\n",
    "    def __bool__(self):\n",
    "        return True if (self.health > 0) else False\n",
    "    \n",
    "    # урон вычисляется по формуле здоровье ударенного = (сила удара бьющего/ броня ударенного),\n",
    "    # т.е. чем лучше броня, тем меньше урон от удара\n",
    "    def hit(self, other):\n",
    "        other.health -= (self.strength/other.armor)\n",
    "        other.health = round(other.health,3)\n",
    "        print(f\"{self.name} hits {other.name};                \", end = '')\n",
    "    \n",
    "    def drink_water(self):\n",
    "        self.health += 0.1 \n",
    "        self.health = round(self.health,3)\n",
    "        print(f\"{self.name} went to drink some water;  \", end = '')\n",
    "        \n",
    "    def __bool__(self):\n",
    "        return True if (self.health > 0) else False\n",
    "\n",
    "            \n",
    "vasya = Fighter('vasya', 8, 5, 1)\n",
    "petya = Fighter('petya', 3, 8, 2)\n",
    "\n",
    "\n",
    "\n",
    "# цикл, в котором пользователь может выбирать \"начать игру\" и \"выйти\"\n",
    "s = input(\"Would you like to play? Press enter if yes, press any key if no: \")\n",
    "to_play = True if (s == '') else False\n",
    "\n",
    "# если играем, то определим условия игры (будет ли здоровье игроков восполняться):\n",
    "if to_play:\n",
    "    print('While playing, press enter to continue, any othe key to stop.')\n",
    "    s = input(\"Would you allow fighters to replenish their health? Press enter if yes, press any key if no: \")\n",
    "    x_range = 3 if (s == '') else 1\n",
    "    \n",
    "    # \"игральная кость\", которая определяет, какой из двух бойцов бьет (и пьет - если здоровье может восполняться)\n",
    "    x = random.randint(0,x_range)\n",
    "\n",
    "\n",
    "\n",
    "\n",
    "# цикл, в котором бойцы бьют друг друга в зависимости от игральной кости\n",
    "\n",
    "while to_play:\n",
    "    if (x == 0):\n",
    "        petya.hit(vasya)\n",
    "    elif (x == 1):\n",
    "        vasya.hit(petya)\n",
    "    elif (x == 2):\n",
    "        petya.drink_water()\n",
    "    elif (x == 3):\n",
    "        vasya.drink_water()\n",
    "    \n",
    "    print(f\"{vasya.name}: {str((vasya.health)).ljust(5)} {petya.name}: {str((petya.health)).ljust(5)}\")\n",
    "    \n",
    "    x = random.randint(0,x_range) #игральная кость\n",
    "    s = input()\n",
    "    if (s == ''):\n",
    "        to_play = True\n",
    "    else:\n",
    "        to_play = False\n",
    "        less_healthy = vasya.name if (vasya.health < petya.health) else petya.name\n",
    "        print(f\"You've decided to stop the game, {less_healthy} is grateful to you for that!\")\n",
    "\n",
    "    if not vasya:\n",
    "        print(f'Oops, {vasya.name} knocked down!')\n",
    "        to_play = False\n",
    "    if not petya:\n",
    "        print(f'Oops, {petya.name} knocked down!')\n",
    "        to_play = False\n",
    "\n"
   ]
  },
  {
   "cell_type": "markdown",
   "id": "268ae644-3075-414b-8138-9bac4b51a25c",
   "metadata": {},
   "source": [
    "\n",
    "Задание 3.\n",
    "\n",
    "Реализуйте с помощью классов базу данных для ветеринарного магазина из первого семинара. Видимо, нам понадобятся два класса: для владельцев животных и для самих животных. У владельца мы храним имя, фамилию и номер телефона. У животного пусть будет кличка, возраст и дополнительный атрибут \"записан на прием\", в котором будет храниться информация о дате следующего приема (если ее нет - None). База данных должна храниться в бинарном файле (используйте pickle или dill). При запуске программы должны быть доступны несколько действий: завести нового клиента, завести новое животное для существующего клиента и записать животное на прием (или отметить, что прием прошел и новой записи нет). Сами экземпляры клиентов хранятся просто в списке.\n",
    "\n",
    "Примечание: в атрибутах могут храниться не только строки, но и списки, но не забывайте об их особенностях. "
   ]
  },
  {
   "cell_type": "code",
   "execution_count": null,
   "id": "85365927-c292-4d29-95a9-f4eabbe336d4",
   "metadata": {},
   "outputs": [],
   "source": [
    "# (not necessarily) your code here"
   ]
  },
  {
   "cell_type": "markdown",
   "id": "d49dcd9c-26fc-4a92-8cd5-56e460d4c1dc",
   "metadata": {},
   "source": [
    "#### Задачи для продвинутого трека"
   ]
  },
  {
   "cell_type": "markdown",
   "id": "53c5ef64-b64f-4d21-8661-d728349cc965",
   "metadata": {},
   "source": [
    "Задание 4. \n",
    "\n",
    "Нейронная сеть состоит из \"нейронов\" - по сути, это такие маленькие линейные функции, уравнения которых в частном случае имеют вид $ w_1 \\cdot x_1 + w_2 \\cdot x_2 + b $. Представим себе, что мы хотим написать самую простую нейронную сеть. Нейроны у этой нейронки принимают только два каких-то значения на вход и возвращают одно значение. Всего в нашей нейронке будет три нейрона. Как оно там должно быть устроено? Итак, каждый нейрон получает два числа на вход, внутри себя он их обрабатывает и передает результат следующему нейрону. Как нейрон обрабатывает эти числа? Ну во-первых, он должен каждое из чисел домножить на вес ($w_1$ и $w_2$ - это как раз веса, а $x_1$ и $x_2$ - наши числа на входе), потом прибавляет к ним bias (b) и пропускает через специальную нелинейную функцию (давайте использовать сигмоиду). У нас только 3 нейрона, значит, первые два принимают два одинаковых числа (и умножают их на свои разные веса), а результаты их работы принимает третий нейрон, который выдает уже типа ответ. \n",
    "\n",
    "Что мы должны реализовать?\n",
    "\n",
    "1. Класс \"нейрон\", у которого будут веса $w_1$ и $w_2$ и bias, а также функция feedforward, которая вычислит формулу $ w_1 \\cdot x_1 + w_2 \\cdot x_2 + b $ и ее результат прогонит через сигмоиду. Веса и свободный коэффициент bias задаются случайным образом, они могут быть какими угодно, можете руками задавать или выбирать с помощью random. Как они уже потом рассчитываются - сложная тема, которую здесь трогать не будем. \n",
    "2. Класс \"нейронная сеть\", у которого в конструкторе будут инициализироваться наши три нейрона (h1 и h2 - первые два и выходной - o1), а также будет такой же метод feedforward, который должен будет вычислять новые значения из h1 и h2 и передавать их в o1. \n",
    "3. Собственно сигмоида (она же функция активации). Формула сигмоиды, кто забыл: $\\frac{1}{1 + e^{-x}}$"
   ]
  },
  {
   "cell_type": "code",
   "execution_count": 34,
   "id": "23ab22d4-1dab-44f3-b6b7-ccb26a6e822e",
   "metadata": {},
   "outputs": [
    {
     "name": "stdout",
     "output_type": "stream",
     "text": [
      "0.7903071628593962\n"
     ]
    }
   ],
   "source": [
    "# (not necessarily) my code here :)\n",
    "\n",
    "import numpy as np\n",
    "\n",
    "# sigmoid function\n",
    "def sigmoid(x):\n",
    "    return 1/(1 + np.exp(-x))\n",
    "\n",
    "# class Neuron takes as input a np array of 2 weights and a bias\n",
    "class Neuron:\n",
    "    def __init__(self, weights, bias):\n",
    "        self.weights = weights\n",
    "        self.bias = bias\n",
    "    \n",
    "    def __str__(self):\n",
    "        return f'{self.weights}, {self.bias}'\n",
    "    \n",
    "    def __repr__(self):\n",
    "        return f\"Neuron({self.weights},  {self.bias})\"\n",
    "        \n",
    "    def feedforward(self, x):\n",
    "        output = np.dot(self.weights, x) + self.bias\n",
    "        return sigmoid(output)\n",
    "        \n",
    "# class NNetwork\n",
    "class NNetwork:\n",
    "    def __init__(self):\n",
    "        weights1 = np.random.rand(2) # initial weights for the first input neuron\n",
    "        weights2 = np.random.rand(2) # initial weights for the second input neuron\n",
    "        weights3 = np.random.rand(2) # initial weights for the output neuron\n",
    "        bias = 0                     # initial bias is zero for every neuron\n",
    "        self.h1 = Neuron(weights1, bias)\n",
    "        self.h2 = Neuron(weights2, bias)\n",
    "        self.o1 = Neuron(weights3, bias)\n",
    "        \n",
    "    def feedforward(self, x):\n",
    "        h1_out = self.h1.feedforward(x)\n",
    "        h2_out = self.h2.feedforward(x)\n",
    "        return self.o1.feedforward(np.array([h1_out, h2_out]))\n",
    "    \n",
    "nn = NNetwork()\n",
    "x = np.array([1,2])\n",
    "print(nn.feedforward(x))\n",
    "\n"
   ]
  },
  {
   "cell_type": "markdown",
   "id": "14744c04-2e93-4bd1-b67b-7e4534c8bc25",
   "metadata": {},
   "source": [
    "Задание 5.\n",
    "\n",
    "Смоделируйте сценарий заказа еды в макдаке, определив четыре класса:\n",
    "\n",
    "**Lunch** - класс, который управляет всем событием \\\n",
    "**Customer** - человек, который покупает блюдо \\\n",
    "**Employee** - продавец \\\n",
    "**Food** - сама еда\n",
    "\n",
    "Какие у них должны быть методы:\n",
    "\n",
    "    class Lunch:\n",
    "        def __init__(self) - создает экземпляры покупателя и продавца\n",
    "        def order(self, foodName) - начинает процесс заказа продавцом\n",
    "        def result(self) - запрашивает у покупателя, какой у него экземпляр еды\n",
    "        \n",
    "    class Customer:\n",
    "        def __init__(self) инициирует еду у покупателя значением None (у покупателя сперва нет еды, он ее еще не купил)\n",
    "        def placeOrder(self, foodName, employee) - размещает заказ с экземпляром продавца, который обслуживает\n",
    "        def printFood(self)  выводит название блюда\n",
    "        \n",
    "    class Employee:\n",
    "        def takeOrder(self, foodName) - возвращает экземпляр еды с запрошенным названием\n",
    "        \n",
    "    class Food:\n",
    "    def __init__(self, name) - сохраняет название блюда\n",
    "    \n",
    "Что должно происходить?\n",
    "1. Конструктор класса Lunch заводит экземпляр покупателя и продавца, после чего метод order запрашивает у покупателя заказ, вызывая его метод placeOrder. В свою очередь placeOrder должен запрашивать у продавца новый объект Food, вызывая метод takeOrder. \n",
    "2. Объект Food должен хранить строку с названием блюда, переданную из Lunch.order() методу Customer.placeOrder(), методу Employee.takeOrder() и, наконец, конструктору Food. Наконец класс Lunch запрашивает о результате, который должен вывести, какую еду получил наш покупатель. "
   ]
  },
  {
   "cell_type": "code",
   "execution_count": 48,
   "id": "3132d2ea-d8bf-43eb-99fa-3873183b163f",
   "metadata": {},
   "outputs": [
    {
     "name": "stdout",
     "output_type": "stream",
     "text": [
      "Введите имя: Maria\n",
      "Хотите пообедать, Maria? Нажмите enter, если да\n",
      "Введите название ресторана: Krosh\n"
     ]
    }
   ],
   "source": [
    "# бред какой-то, ничего не понимаю -- где объекты должны быть, а где -- названия\n",
    "class Food:\n",
    "    def __init__(self, name): #сохраняет название блюда\n",
    "        self.name = name\n",
    "\n",
    "        \n",
    "class Customer:\n",
    "    def __init__(self): #инициирует еду у покупателя значением None (у покупателя сперва нет еды, он ее еще не купил)\n",
    "        self.food = None\n",
    "    \n",
    "    def placeOrder(self, foodName, employee): #размещает заказ с экземпляром продавца, который обслуживает\n",
    "        self.food = employee.takeOrder(foodName)\n",
    "        \n",
    "    def printFood(self): #выводит название блюда\n",
    "        print(f\"self.food\")\n",
    "\n",
    "        \n",
    "class Employee:\n",
    "    def takeOrder(self, foodName): #возвращает экземпляр еды с запрошенным названием\n",
    "        self.foodName = Food(foodName)\n",
    "        return \n",
    "\n",
    "\n",
    "\n",
    "class Lunch:\n",
    "    def __init__(self, customer, employee): #создает экземпляры покупателя и продавца\n",
    "        self.customer = customer\n",
    "        self.employee = employee\n",
    "        Customer(self.customer)\n",
    "        \n",
    "        \n",
    "        \n",
    "    def __str__(self):\n",
    "        return f'{self.customer}, {self.employee}'\n",
    "    \n",
    "    def __repr__(self):\n",
    "        return f\"Lunch({self.customer},  {self.employee})\"\n",
    "    \n",
    "    def order(self, foodName): #начинает процесс заказа продавцом\n",
    "        self.foodName = self.customer.placeOrder()\n",
    "        \n",
    "        \n",
    "    def result(self): #запрашивает у покупателя, какой у него экземпляр еды\n",
    "        pass\n",
    "\n",
    "customer = input(\"Введите имя: \")\n",
    "q = input(f\"Хотите пообедать, {customer}? Нажмите enter, если да\")\n",
    "if (q == ''):\n",
    "    employee = input('Введите название ресторана: ')\n",
    "    lunch = Lunch(customer, employee)\n",
    "    Lunch(customer, employee)\n",
    "else:\n",
    "    pass\n",
    "\n",
    "\n",
    "# lunch = Lunch()\n",
    "# lunch.order('картошка')\n",
    "        \n",
    "\n",
    "\n"
   ]
  },
  {
   "cell_type": "code",
   "execution_count": null,
   "id": "a5feaebb",
   "metadata": {},
   "outputs": [],
   "source": []
  },
  {
   "cell_type": "code",
   "execution_count": null,
   "id": "2fb1017c",
   "metadata": {},
   "outputs": [],
   "source": []
  }
 ],
 "metadata": {
  "kernelspec": {
   "display_name": "Python 3 (ipykernel)",
   "language": "python",
   "name": "python3"
  },
  "language_info": {
   "codemirror_mode": {
    "name": "ipython",
    "version": 3
   },
   "file_extension": ".py",
   "mimetype": "text/x-python",
   "name": "python",
   "nbconvert_exporter": "python",
   "pygments_lexer": "ipython3",
   "version": "3.9.7"
  }
 },
 "nbformat": 4,
 "nbformat_minor": 5
}
