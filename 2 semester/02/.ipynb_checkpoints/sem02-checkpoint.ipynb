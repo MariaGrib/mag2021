{
 "cells": [
  {
   "cell_type": "markdown",
   "id": "c6eff2ab-82a7-4389-8506-a0fe983285cd",
   "metadata": {},
   "source": [
    "## Парадигмы"
   ]
  },
  {
   "cell_type": "code",
   "execution_count": 19,
   "id": "bf77c03b-2a98-4e8b-93ea-65541c9b8e94",
   "metadata": {},
   "outputs": [
    {
     "name": "stdout",
     "output_type": "stream",
     "text": [
      "Vasya can go to the cinema\n"
     ]
    }
   ],
   "source": [
    "class Human:\n",
    "    def __init__ (self, name, surname, age):\n",
    "        self.name = name\n",
    "        self.surname = surname\n",
    "        self.age = age\n",
    "        \n",
    "    def __bool__(self):\n",
    "        if (self.age>=18): return True\n",
    "        \n",
    "    def show_off(self, other):\n",
    "        if self.age > other.age:\n",
    "            print(f'{self.name} старше, чем {other.name}')\n",
    "        elif self.age < other.age:\n",
    "            print(f'{self.name} младше, чем {other.name}')\n",
    "        else:\n",
    "            print('все равны')\n",
    "        \n",
    "vasya = Human('Vasya','Pupkin',19)\n",
    "petya = Human('Vasya','Pupkin',19)\n",
    "\n",
    "if vasya:\n",
    "    print(f'{vasya.name} can go to the cinema')"
   ]
  },
  {
   "cell_type": "code",
   "execution_count": 17,
   "id": "56f4cb20",
   "metadata": {},
   "outputs": [
    {
     "name": "stdout",
     "output_type": "stream",
     "text": [
      "1.0\n"
     ]
    },
    {
     "data": {
      "text/plain": [
       "Triangle(1, 2, 90)"
      ]
     },
     "execution_count": 17,
     "metadata": {},
     "output_type": "execute_result"
    }
   ],
   "source": [
    "import math\n",
    "\n",
    "class Triangle:\n",
    "    def __init__(self, a, b, angle_deg):\n",
    "        self.a = a\n",
    "        self.b = b\n",
    "        self.angle_deg = angle_deg\n",
    "        \n",
    "        self.angle = self.angle_deg*math.pi/180\n",
    "        \n",
    "    def __repr__(self):\n",
    "        return f\"Triangle({self.a}, {self.b}, {self.angle_deg})\"\n",
    "        \n",
    "    def area(self):\n",
    "        return 1/2*self.a*self.b*math.sin(self.angle)\n",
    "    \n",
    "my_triangle = Triangle(1,2,90)\n",
    "\n",
    "print(my_triangle.area())\n",
    "\n",
    "my_triangle"
   ]
  },
  {
   "cell_type": "code",
   "execution_count": null,
   "id": "723bf8c5",
   "metadata": {},
   "outputs": [],
   "source": [
    "class Fighter:\n",
    "    def __init__(self, name, health, armor, strength):\n",
    "        self.name = name\n",
    "        self.health = health\n",
    "        self.armor = armor\n",
    "        self.strength = strength\n",
    "    \n",
    "    def __str__(self):\n",
    "        pass\n",
    "    \n",
    "    def __repr__(self):\n",
    "        return f\"Fighter('{self.name}', {self.health}, {self.armor}, {self.strength})\"\n",
    "    \n",
    "    def hit(self, other):\n",
    "        "
   ]
  }
 ],
 "metadata": {
  "kernelspec": {
   "display_name": "Python 3 (ipykernel)",
   "language": "python",
   "name": "python3"
  },
  "language_info": {
   "codemirror_mode": {
    "name": "ipython",
    "version": 3
   },
   "file_extension": ".py",
   "mimetype": "text/x-python",
   "name": "python",
   "nbconvert_exporter": "python",
   "pygments_lexer": "ipython3",
   "version": "3.9.7"
  }
 },
 "nbformat": 4,
 "nbformat_minor": 5
}
