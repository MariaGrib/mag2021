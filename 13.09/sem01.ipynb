{
 "cells": [
  {
   "cell_type": "markdown",
   "metadata": {
    "id": "n_9eiZzCUVJc"
   },
   "source": [
    "# 13.09.2021"
   ]
  },
  {
   "cell_type": "markdown",
   "metadata": {},
   "source": [
    "Добро пожаловать в Jupyter Lab! Здесь мы с вами будем решать задачки на занятии. \n",
    "# Задание 1.\n",
    "Потестируем питон и jupyter сразу: давайте напишем простенький скрипт, который спрашивает у пользователя его имя и затем выводит \"Привет, <имя>\"!"
   ]
  },
  {
   "cell_type": "code",
   "execution_count": 3,
   "metadata": {
    "id": "A50Flq7AUZ8W"
   },
   "outputs": [
    {
     "name": "stdout",
     "output_type": "stream",
     "text": [
      "Как Вас зовут? Марьванна\n",
      "Привет, Марьванна!\n"
     ]
    }
   ],
   "source": [
    "name = input('Как Вас зовут? ')\n",
    "print(f'Привет, {name}!')"
   ]
  },
  {
   "cell_type": "markdown",
   "metadata": {},
   "source": [
    "# Задание 2. \n",
    "Напишем скрипт, который принимает от пользователя два числа и выводит результаты их сложения, умножения, вычитания и деления. А также возводит в квадрат и куб. Можно заодно потренироваться использовать аргументы функции print()."
   ]
  },
  {
   "cell_type": "code",
   "execution_count": 7,
   "metadata": {},
   "outputs": [
    {
     "name": "stdout",
     "output_type": "stream",
     "text": [
      "Введите первое число: 2\n",
      "Введите второе число: 2\n",
      "Сумма: 4.0, произведение: 4.0, разность: 0.0, частное: 1.0!\n"
     ]
    }
   ],
   "source": [
    "a = float(input('Введите первое число: '))\n",
    "b = float(input('Введите второе число: '))\n",
    "print('Сумма: {}, произведение: {}, разность: {}, частное: {}!'.format(a+b, a*b, round(a-b,3), round(a/b,3)))"
   ]
  },
  {
   "cell_type": "markdown",
   "metadata": {},
   "source": [
    "# Задание 3.\n",
    "Положим константу limit = 5. Наш следующий скрипт должен попросить пользователя ввести любое число; если введенное число больше 5, то пишем 'Greater than 5!', если меньше, то пишем 'Lesser than 5!', если равно, то пишем 'Equals 5'."
   ]
  },
  {
   "cell_type": "code",
   "execution_count": 36,
   "metadata": {
    "id": "A50Flq7AUZ8W"
   },
   "outputs": [
    {
     "name": "stdout",
     "output_type": "stream",
     "text": [
      "Enter your number! 3\n",
      "it's less than 5!\n"
     ]
    }
   ],
   "source": [
    "a = 5;\n",
    "number = float(input('Enter your number! '))\n",
    "if (number > a):\n",
    "    print('it\\'s greater than 5!')\n",
    "elif (number < a):\n",
    "    print('it\\'s less than 5!')\n",
    "else:\n",
    "    print('it\\'s equal to 5!')\n",
    "    "
   ]
  },
  {
   "cell_type": "markdown",
   "metadata": {},
   "source": [
    "# Задание 4.\n",
    "Пишем скрипт, который проверит, есть ли символ а в введенной пользователем строке, подсчитает, сколько в строке символов а, и выведет индексы первого и последнего их вхождения."
   ]
  },
  {
   "cell_type": "code",
   "execution_count": 59,
   "metadata": {
    "id": "A50Flq7AUZ8W"
   },
   "outputs": [
    {
     "name": "stdout",
     "output_type": "stream",
     "text": [
      "Input your string: a a\n",
      "2\n",
      "index of the first \"a\": 0\n",
      "index of the last \"a\": 2\n"
     ]
    }
   ],
   "source": [
    "str1 = input('Input your string: ')\n",
    "substr = \"a\"\n",
    "\n",
    "count1 = str1.count(substr)\n",
    "print(count1)\n",
    "\n",
    "res = [i for i in range(len(str1)) if str1.startswith(substr, i)]\n",
    "print(f'index of the first \\\"{substr}\\\": {res[0]}')\n",
    "print(f'index of the last \\\"{substr}\\\": {res[-1]}')"
   ]
  },
  {
   "cell_type": "markdown",
   "metadata": {},
   "source": [
    "# Задание 5.\n",
    "Доработаем наш самый первый скрипт: добавим проверку на правильность имени (подумайте, какую проверку использовать), и если человек ввел что-то нехорошее, скажем ему \"давай до свидания\"."
   ]
  },
  {
   "cell_type": "code",
   "execution_count": 6,
   "metadata": {
    "id": "A50Flq7AUZ8W",
    "scrolled": true
   },
   "outputs": [
    {
     "name": "stdout",
     "output_type": "stream",
     "text": [
      "Как Вас зовут? Мария\n",
      "Привет, Мария!\n"
     ]
    }
   ],
   "source": [
    "name = input('Как Вас зовут? ')\n",
    "# the code checks whether name contains only letters, and\n",
    "# whether the first letter is uppercase (where applicable), while the rest are lowercase\n",
    "# if those conditions are met, the code greets the person, otherwise it says good bye\n",
    "name_compare = name.capitalize()\n",
    "name_compare = ''.join(filter(str.isalnum, name_compare));\n",
    "name_compare = ''.join(filter(lambda x: x not in '0123456789', name_compare))\n",
    "if(name != name_compare):\n",
    "    print('Давай, до свидания!')\n",
    "else:\n",
    "    print(f'Привет, {name}!')"
   ]
  },
  {
   "cell_type": "markdown",
   "metadata": {},
   "source": [
    "# Задание 6.\n",
    "А теперь наш пользователь вводит не только имя, но и фамилию (по отдельности). Выведем это все в красивом формате одним-единственным принтом:\n",
    "Имя: Вася\n",
    "Фамилия: Пупкин\n",
    "\n",
    "(если хотите, можете еще поукрашать)"
   ]
  },
  {
   "cell_type": "code",
   "execution_count": 3,
   "metadata": {
    "id": "A50Flq7AUZ8W"
   },
   "outputs": [
    {
     "name": "stdout",
     "output_type": "stream",
     "text": [
      "Имя: Вася\n",
      "Фамилия: Пупкин\n",
      "- Привет! Меня зовут Вася Пупкин, и я шопоголик!\n",
      "...\n",
      "- Привет, Вася Пупкин!\n"
     ]
    }
   ],
   "source": [
    "name = input('Имя: ')\n",
    "surname = input('Фамилия: ')\n",
    "print('- Привет! Меня зовут {} {}, и я шопоголик!'.format(name, surname))\n",
    "print('...')\n",
    "print('- Привет, {} {}!'.format(name, surname))"
   ]
  },
  {
   "cell_type": "markdown",
   "metadata": {},
   "source": [
    "# Задание 7.\n",
    "Пользователь вводит строчку, а наша задача - вывести ее задом наперед. Это можно сделать при помощи срезов, подумайте, как."
   ]
  },
  {
   "cell_type": "code",
   "execution_count": 50,
   "metadata": {
    "id": "A50Flq7AUZ8W"
   },
   "outputs": [
    {
     "name": "stdout",
     "output_type": "stream",
     "text": [
      "enter your string: Maria\n",
      "here is how your string would be read by arabists: airaM\n"
     ]
    }
   ],
   "source": [
    "yourstring = input('enter your string: ')\n",
    "print('here is how your string would be read by arabists: {}'.format(yourstring[::-1]))"
   ]
  }
 ],
 "metadata": {
  "colab": {
   "authorship_tag": "ABX9TyPS4W5Zg1TNav+3BL2xg/Du",
   "collapsed_sections": [],
   "name": "Untitled2.ipynb",
   "provenance": []
  },
  "kernelspec": {
   "display_name": "Python 3 (ipykernel)",
   "language": "python",
   "name": "python3"
  },
  "language_info": {
   "codemirror_mode": {
    "name": "ipython",
    "version": 3
   },
   "file_extension": ".py",
   "mimetype": "text/x-python",
   "name": "python",
   "nbconvert_exporter": "python",
   "pygments_lexer": "ipython3",
   "version": "3.9.7"
  }
 },
 "nbformat": 4,
 "nbformat_minor": 4
}
