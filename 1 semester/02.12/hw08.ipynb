{
 "cells": [
  {
   "cell_type": "markdown",
   "id": "e2e5408e-78a9-460a-a4ba-12164b1932da",
   "metadata": {},
   "source": [
    "## Задание 1.\n",
    "\n",
    "Выборы в США (http://pythontutor.ru/lessons/dicts/problems/usa_elections/ - советую посмотреть там, там можно найти примеры работы программы).\n",
    "\n",
    "Как известно, в США президент выбирается не прямым голосованием, а путем двухуровневого голосования. Сначала проводятся выборы в каждом штате и определяется победитель выборов в данном штате. Затем проводятся государственные выборы: на этих выборах каждый штат имеет определенное число голосов — число выборщиков от этого штата. На практике, все выборщики от штата голосуют в соответствии с результами голосования внутри штата, то есть на заключительной стадии выборов в голосовании участвуют штаты, имеющие различное число голосов.\n",
    "\n",
    "В первой строке дано количество записей. Далее, каждая запись содержит фамилию кандидата и число голосов, отданных за него в одном из штатов. Подведите итоги выборов: для каждого из участника голосования определите число отданных за него голосов. Участников нужно выводить в алфавитном порядке."
   ]
  },
  {
   "cell_type": "code",
   "execution_count": 260,
   "id": "1ccee427-3aa9-402e-b014-9a13b591784f",
   "metadata": {},
   "outputs": [
    {
     "name": "stdout",
     "output_type": "stream",
     "text": [
      "McCain 51\n",
      "Obama 52\n"
     ]
    }
   ],
   "source": [
    "import re\n",
    "\n",
    "text = '''13\n",
    "McCain 10\n",
    "McCain 3\n",
    "Obama 19\n",
    "Obama 2\n",
    "McCain 7\n",
    "McCain 2\n",
    "Obama 6\n",
    "Obama 10\n",
    "McCain 11\n",
    "McCain 5\n",
    "Obama 3\n",
    "Obama 12\n",
    "McCain 13'''\n",
    "\n",
    "num = int(re.match(r'([0-9]*)', text).groups(1)[0])\n",
    "\n",
    "pattern = re.compile(r\"(?i)([a-z]*)(?: )([0-9]*)\")\n",
    "t = re.findall(pattern, text)\n",
    "\n",
    "tdict = {}\n",
    "\n",
    "for i in range(0,num):\n",
    "    tdict[t[i][0]] =  tdict.get(t[i][0], 0) + int(t[i][1])\n",
    "\n",
    "for president, votes in sorted(tdict.items()):\n",
    "    print(president, votes)"
   ]
  },
  {
   "cell_type": "markdown",
   "id": "9e7a50b5-c62e-4528-accd-5a0f3da79d88",
   "metadata": {},
   "source": [
    "## Задание 2.\n",
    "\n",
    "В файле хранятся данные двуязычного словаря (языки можете выбирать какие хотите) в формате \n",
    "\n",
    "    слово\\tперевод, перевод, перевод\n",
    "    \n",
    "Программа должна загрузить данные в формате dict, а потом на основе этого словаря собрать словарь наоборот: если у нас был англо-русский словарь, на выходе должен получиться русско-английский в таком же виде, т.е. одному русскому слову соответствует один и более переводов. Результат нужно записать в такой же файл."
   ]
  },
  {
   "cell_type": "code",
   "execution_count": 261,
   "id": "1b938efd-f45e-43a6-91ff-45b073e5b91c",
   "metadata": {},
   "outputs": [
    {
     "name": "stdout",
     "output_type": "stream",
     "text": [
      "Исходный словарь:\n",
      "mean\tзначение, среднее, скупой, подлый\n",
      "tight\tузкий, скупой, тесный\n",
      "close\tзакрытый, тесный, близкий\n",
      "familiar\tпривычный, близкий, знакомый\n",
      "narrow\tузкий, ограниченный, тесный\n",
      "\n",
      "Обратный словарь:\n",
      "близкий\tclose, familiar\n",
      "закрытый\tclose\n",
      "знакомый\tfamiliar\n",
      "значение\tmean\n",
      "ограниченный\tnarrow\n",
      "подлый\tmean\n",
      "привычный\tfamiliar\n",
      "скупой\tmean, tight\n",
      "среднее\tmean\n",
      "тесный\ttight, close, narrow\n",
      "узкий\ttight, narrow\n"
     ]
    }
   ],
   "source": [
    "import re\n",
    "\n",
    "file = open('eng-rus.txt', 'r', encoding = 'utf8')\n",
    "out = open('rus-eng.txt', 'w', encoding = 'utf8')\n",
    "\n",
    "tdict = {}\n",
    "\n",
    "pattern = re.compile(r\"(?i)([a-z]+|[а-я]+)\")\n",
    "\n",
    "print('Исходный словарь:')\n",
    "# считывание из словаря построчно\n",
    "file.seek(0)\n",
    "while True:\n",
    "    line = file.readline().strip('\\n\\r') \n",
    "    s = re.findall(pattern, line)\n",
    "    for i in range(1,len(s)):\n",
    "        if s[i] in tdict:\n",
    "              tdict[s[i]].append(s[0])\n",
    "        else:\n",
    "              tdict[s[i]] = [s[0]]\n",
    "    print(line)\n",
    "    if line == '':\n",
    "        break\n",
    "tdict\n",
    "\n",
    "# печать в файл и на экран\n",
    "print('Обратный словарь:')\n",
    "for item in sorted(tdict):\n",
    "#     print(tdict[item])\n",
    "#     out.write(f'{item}\\t{', '.join(tdict[item])}\\n') # f-строка не хочет работать с join почему-то\n",
    "    out.write(item + '\\t' + ', '.join(tdict[item]) + '\\n')\n",
    "    print(item + '\\t' + ', '.join(tdict[item])) # выведу сюда для проверки\n",
    "\n",
    "out.close()\n",
    "file.close()"
   ]
  },
  {
   "cell_type": "markdown",
   "id": "c79de499-b847-4681-8e41-9d55f2c3001a",
   "metadata": {},
   "source": [
    "## Задание 3.\n",
    "\n",
    "Продажи (http://pythontutor.ru/lessons/dicts/problems/sales/)\n",
    "\n",
    "Дана база данных о продажах некоторого интернет-магазина. Каждая строка входного файла представляет собой запись вида Покупатель товар количество, где Покупатель — имя покупателя (строка без пробелов), товар — название товара (строка без пробелов), количество — количество приобретенных единиц товара.\n",
    "\n",
    "Создайте список всех покупателей, а для каждого покупателя подсчитайте количество приобретенных им единиц каждого вида товаров. Список покупателей, а также список товаров для каждого покупателя нужно выводить в лексикографическом порядке."
   ]
  },
  {
   "cell_type": "code",
   "execution_count": 262,
   "id": "236b49bf-61be-430b-b8f0-330efbbd861d",
   "metadata": {},
   "outputs": [
    {
     "name": "stdout",
     "output_type": "stream",
     "text": [
      "Исходный файл:\n",
      "Ivanov paper 10\n",
      "Petrov pens 5\n",
      "Ivanov marker 3\n",
      "Ivanov paper 7\n",
      "Petrov envelope 20\n",
      "Ivanov envelope 5\n",
      "\n",
      "Ivanov:\n",
      "envelope 5\n",
      "marker 3\n",
      "paper 17\n",
      "Petrov:\n",
      "envelope 20\n",
      "pens 5\n"
     ]
    }
   ],
   "source": [
    "file = open('sales.txt', 'r', encoding = 'utf8')\n",
    "\n",
    "line = file.readline().strip('\\n\\r') \n",
    "s = line.split()\n",
    "s\n",
    "\n",
    "customers = {}\n",
    "\n",
    "file.seek(0)\n",
    "print('Исходный файл:')\n",
    "while True:\n",
    "    line = file.readline().strip('\\n\\r') \n",
    "    print(line)\n",
    "    if line == '':\n",
    "        break\n",
    "    s = line.split()\n",
    "#     customers[s[0]][s[1]] = customers.get(customers[s[0]][s[1]], 0) + int(s[2])\n",
    "    if s[0] in customers:\n",
    "        if s[1] in customers[s[0]]:\n",
    "            customers[s[0]][s[1]] =  customers[s[0]].get(s[1]) + int(s[2])\n",
    "        else:\n",
    "            customers[s[0]][s[1]] = int(s[2])\n",
    "    else:\n",
    "        customers[s[0]] = {}\n",
    "        customers[s[0]][s[1]] = int(s[2])\n",
    "\n",
    "for customer in sorted(customers):\n",
    "    print(customer + ':')\n",
    "    for item in sorted(customers[customer]):\n",
    "        print(f'{item} {customers[customer][item]}')\n",
    "        \n",
    "file.close()"
   ]
  },
  {
   "cell_type": "markdown",
   "id": "50618413-907f-48fc-801f-3253d047f645",
   "metadata": {},
   "source": [
    "## \\* Задание 4.\n",
    "\n",
    "Банковские счета (http://pythontutor.ru/lessons/dicts/problems/bank_accounts/)\n",
    "\n",
    "Некоторый банк хочет внедрить систему управления счетами клиентов, поддерживающую следующие операции:\n",
    "\n",
    "1. Пополнение счета клиента.\n",
    "2. Снятие денег со счета.\n",
    "3. Запрос остатка средств на счете.\n",
    "4. Перевод денег между счетами клиентов.\n",
    "5. Начисление процентов всем клиентам.\n",
    "\n",
    "Вам необходимо реализовать такую систему. Клиенты банка идентифицируются именами (уникальная строка, не содержащая пробелов). Первоначально у банка нет ни одного клиента. Как только для клиента проводится операция пололнения, снятия или перевода денег, ему заводится счет с нулевым балансом. Все дальнейшие операции проводятся только с этим счетом. Сумма на счету может быть как положительной, так и отрицательной, при этом всегда является целым числом.\n",
    "\n",
    "Входной файл содержит последовательность операций. Возможны следующие операции:\n",
    "\n",
    "DEPOSIT name sum - зачислить сумму sum на счет клиента name. Если у клиента нет счета, то счет создается.\n",
    "\n",
    "WITHDRAW name sum - снять сумму sum со счета клиента name. Если у клиента нет счета, то счет создается.\n",
    "\n",
    "BALANCE name - узнать остаток средств на счету клиента name.\n",
    "\n",
    "TRANSFER name1 name2 sum - перевести сумму sum со счета клиента name1 на счет клиента name2. Если у какого-либо клиента нет счета, то ему создается счет.\n",
    "\n",
    "INCOME p - начислить всем клиентам, у которых открыты счета, p% от суммы счета. Проценты начисляются только клиентам с положительным остатком на счету, если у клиента остаток отрицательный, то его счет не меняется. После начисления процентов сумма на счету остается целой, то есть начисляется только целое число денежных единиц. Дробная часть начисленных процентов отбрасывается.\n",
    "\n",
    "Для каждого запроса BALANCE программа должна вывести остаток на счету данного клиента. Если же у клиента с запрашиваемым именем не открыт счет в банке, выведите ERROR."
   ]
  },
  {
   "cell_type": "code",
   "execution_count": null,
   "id": "01b7ac48-cca0-41b0-9c48-9a09ade7dc0e",
   "metadata": {},
   "outputs": [],
   "source": []
  },
  {
   "cell_type": "code",
   "execution_count": null,
   "id": "27b71b44",
   "metadata": {},
   "outputs": [],
   "source": []
  }
 ],
 "metadata": {
  "kernelspec": {
   "display_name": "Python 3 (ipykernel)",
   "language": "python",
   "name": "python3"
  },
  "language_info": {
   "codemirror_mode": {
    "name": "ipython",
    "version": 3
   },
   "file_extension": ".py",
   "mimetype": "text/x-python",
   "name": "python",
   "nbconvert_exporter": "python",
   "pygments_lexer": "ipython3",
   "version": "3.9.7"
  }
 },
 "nbformat": 4,
 "nbformat_minor": 5
}
