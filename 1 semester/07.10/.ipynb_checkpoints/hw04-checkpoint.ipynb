{
 "cells": [
  {
   "cell_type": "markdown",
   "id": "93e3214a-3a65-4db4-bd8c-d9a171b8513a",
   "metadata": {},
   "source": [
    "## Задание 1.\n",
    "\n",
    "Вводится список чисел через пробел. Поменяйте в этом списке самое маленькое и самое большое число местами, н-р, список 4 2 6 3 7 5 должен превратиться в 4 7 6 3 2 5"
   ]
  },
  {
   "cell_type": "code",
   "execution_count": null,
   "id": "cfcc221c-5dae-4b3e-9162-e11a37771ff2",
   "metadata": {},
   "outputs": [],
   "source": [
    "# your code here"
   ]
  },
  {
   "cell_type": "markdown",
   "id": "37804513-3e14-4560-8738-8c44711820ef",
   "metadata": {},
   "source": [
    "## Задание 2. \n",
    "\n",
    "Вводится список (чего угодно, как угодно). Нужно все элементы поменять местами, н-р, список вида 1 2 3 4 5 превращается в 2 1 4 3 5. "
   ]
  },
  {
   "cell_type": "code",
   "execution_count": null,
   "id": "c6e929ca-2ba4-4e88-aede-d1885763e400",
   "metadata": {},
   "outputs": [],
   "source": [
    "# your code here"
   ]
  },
  {
   "cell_type": "markdown",
   "id": "eb11f832-de61-4c8b-a8af-8c4c8c0fcc24",
   "metadata": {},
   "source": [
    "## Задание 3. \n",
    "\n",
    "Петя перешёл в другую школу. На уроке физкультуры ему понадобилось определить своё место в строю. Помогите ему это сделать.\n",
    "\n",
    "Программа получает на вход невозрастающую последовательность натуральных чисел, означающих рост каждого человека в строю. После этого вводится число X – рост Пети. Все числа во входных данных натуральные и не превышают 200.\n",
    "\n",
    "Выведите номер, под которым Петя должен встать в строй. Если в строю есть люди с одинаковым ростом, таким же, как у Пети, то он должен встать после них."
   ]
  },
  {
   "cell_type": "code",
   "execution_count": null,
   "id": "008c0cc4-9a53-4413-8c22-43fb5414bfc2",
   "metadata": {},
   "outputs": [],
   "source": [
    "# your code here"
   ]
  },
  {
   "cell_type": "markdown",
   "id": "7d84bcba-b0f8-49d4-8758-e4b0faa7cd12",
   "metadata": {},
   "source": [
    "## Задание 4.\n",
    "\n",
    "Известно, что на доске 8х8 можно расставить 8 ферзей так, чтобы они не били друг друга. Вам дана расстановка 8 ферзей на доске, определите, есть ли среди них пара бьющих друг друга.\n",
    "Программа получает на вход восемь пар чисел, каждое число от 1 до 8 — координаты 8 ферзей. Если ферзи не бьют друг друга, выведите слово NO, иначе выведите YES."
   ]
  },
  {
   "cell_type": "code",
   "execution_count": 36,
   "id": "55e87281-05e1-4750-8c9f-08d50e878f90",
   "metadata": {},
   "outputs": [
    {
     "data": {
      "text/plain": [
       "87"
      ]
     },
     "execution_count": 36,
     "metadata": {},
     "output_type": "execute_result"
    }
   ],
   "source": [
    "abs(-87)"
   ]
  },
  {
   "cell_type": "markdown",
   "id": "0511b9e6-9b2c-4523-b24e-d65492e7e433",
   "metadata": {},
   "source": [
    "## Задание 5.\n",
    "\n",
    "Дан список. Удалите из списка все повторы, то есть, оставьте в списке каждый элемент только в одном экземпляре (остаться должно только первое появление элемента в списке). Программа не должна использовать дополнительную память: это означает, что нельзя пользоваться множествами и генераторами, можно только производить изменения в самом списке. "
   ]
  },
  {
   "cell_type": "code",
   "execution_count": 44,
   "id": "3f5c567a-9e0c-4d77-a265-2b0da580add8",
   "metadata": {},
   "outputs": [
    {
     "data": {
      "text/plain": [
       "[1, 2, 3, 4, 5, 6, 7, 8, 9]"
      ]
     },
     "execution_count": 44,
     "metadata": {},
     "output_type": "execute_result"
    }
   ],
   "source": [
    "seq = [1,2,3,2,4,4,1,5,3,5,5,6,7,3,8,1,9,1]\n",
    "# seq = [5,2,5,5,6,7]\n",
    "\n",
    "i = 0\n",
    "while i<len(seq):\n",
    "    j = len(seq)-1\n",
    "    while (j>i):\n",
    "        if (seq[j]==seq[i]):\n",
    "            del seq[j]\n",
    "#             seq[j] = 'NaN'\n",
    "        j -=1\n",
    "    i += 1\n",
    "seq\n",
    "# len(seq)"
   ]
  },
  {
   "cell_type": "markdown",
   "id": "844da507-c3c0-4cb0-882e-91733ad4af3e",
   "metadata": {},
   "source": [
    "## Задание 6.\n",
    "\n",
    "На вход программе даётся число N и список. Удалите из списка все элементы, которые встречаются в нём ровно N раз. Программа не должна использовать дополнительную память."
   ]
  },
  {
   "cell_type": "code",
   "execution_count": 19,
   "id": "dac7c97f-e0c3-45d8-96d8-83e8dc31211d",
   "metadata": {},
   "outputs": [
    {
     "name": "stdout",
     "output_type": "stream",
     "text": [
      "1\n",
      "2\n",
      "5\n",
      "6\n"
     ]
    }
   ],
   "source": [
    "N = 2\n",
    "\n",
    "seq = [10,3,4,3,2,1,2,4,5,6,7,8,9,0,1,4,3,3,6,5,4,3]\n",
    "bset = frozenset(seq)\n",
    "for i in bset:\n",
    "    if (seq.count(i) == N):\n",
    "        print(i)\n",
    "    "
   ]
  },
  {
   "cell_type": "markdown",
   "id": "66d3af89-ef24-43f9-82f6-793de29df3fe",
   "metadata": {},
   "source": [
    "## \\* Задание 7. \n",
    "\n",
    "На вход программе даётся число X и список чисел. Удалите из списка все вхождения элемента X. Программа должна работать за линейное время. Программа не должна использовать дополнительную память. Код для проверки на линейность уже вписан (если меняете D с 10000 на 100000, время должно увеличиться не больше чем в 10 раз). \n",
    "\n",
    "Примечание: эту задачу решают не многие студенты, но те, которые решают, гарантированно осиливают продвинутый трек. "
   ]
  },
  {
   "cell_type": "code",
   "execution_count": 165,
   "id": "ddb0bb39-2819-41b5-8c4c-0cf4b88ed9c6",
   "metadata": {},
   "outputs": [
    {
     "name": "stdout",
     "output_type": "stream",
     "text": [
      "0.340897798538208\n",
      "[1, 1, 3, 4, 5, 6, 1, 1, 3, 4, 5, 6, 1, 1, 3, 4, 5, 6, 1, 1, 3, 4, 5, 6, 1, 1, 3, 4, 5, 6]\n",
      "[1, 1, 3, 4, 5, 6, 1, 1, 3, 4, 5, 6, 1, 1, 3, 4, 5, 6, 1, 1, 3, 4, 5, 6, 1, 1, 3, 4, 5, 6]\n",
      "200000\n"
     ]
    }
   ],
   "source": [
    "# while 1:\n",
    "#     try:\n",
    "#         L.remove(N)\n",
    "#     except ValueError:\n",
    "#         break\n",
    "\n",
    "# L = [x for x in L if x != N]\n",
    "\n",
    "import time\n",
    "\n",
    "# D = int(input())\n",
    "D = 100000\n",
    "L = [1, 2, 1, 2, 3, 4, 5, 6] * D\n",
    "\n",
    "N = 2\n",
    "# N = int(input())\n",
    "\n",
    "t = time.time()\n",
    "# --- 1 вариант --- #\n",
    "# counter = 0\n",
    "# for i in range(len(L)-1,-1,-1):   \n",
    "#     if (L[i]==N):\n",
    "#         counter += 1\n",
    "        \n",
    "# while (counter>0):\n",
    "#     if (L[-1]==N):\n",
    "#             counter -= 1\n",
    "#             del L[-1]\n",
    "#     else:\n",
    "#         counter = 0\n",
    "#         for i in range(len(L)-1,-1,-1):   \n",
    "#             if (L[i]==N):\n",
    "#                 counter += 1\n",
    "#                 L[i] = L[i+1]\n",
    "#                 L[i+1] = N\n",
    "# --- 2 вариант --- #\n",
    "# for i in range(len(L)-1,-1,-1):  \n",
    "#     if (L[i]==N):\n",
    "#         del L[i]\n",
    "# --- 3 вариант --- # посвящаю студенту-ботанику\n",
    "started = False # флаг начала последовательности из N\n",
    "amount = 0 # количество найденных N\n",
    "i = 0 \n",
    "while i<len(L):\n",
    "    if (L[i]!=N): # текущий элемент не равен N\n",
    "        if started: # текущий элемент не равен N, а последовательность из N началась\n",
    "            L[start_i] = L[i]  # в начало последовательности переставляем текущий элемент, а \n",
    "            L[i] = N           # на его место - N\n",
    "            start_i +=1        # последовательность сдвигается на единицу\n",
    "            i +=1              # идем смотреть следующий элемент\n",
    "        else:\n",
    "            i +=1              # идем смотреть следующий элемент\n",
    "    else: # текущий элемент равен N и\n",
    "        if not started:        # до этого не было таких элементов\n",
    "            start_i = i        # начинаем последовательность из N\n",
    "            started = True     # включаем флаг \n",
    "            amount +=1         # увеличиваем количество найденных элементов на единицу\n",
    "            i +=1              # идем смотреть следующий элемент\n",
    "            \n",
    "        else:                  # последовательность началась\n",
    "            amount +=1         # увеличиваем количество найденных элементов на единицу    \n",
    "            i +=1              # идем смотреть следующий элемент\n",
    "del L[-amount:]      \n",
    "      \n",
    "\n",
    "# Ind = 0\n",
    "# # if (L[-1]==N):\n",
    "# #     L.pop()\n",
    "# for i in range(0,len(L)-1):\n",
    "#     if (L[i]==N):\n",
    "#         L[i] = L[i+1]\n",
    "#         L[i+1] = N\n",
    "# #         Ind = i\n",
    "# #             i += 1\n",
    "\n",
    "print(time.time() - t)\n",
    "print(L[:30])\n",
    "print(L[-30:])\n",
    "print(amount)"
   ]
  },
  {
   "cell_type": "markdown",
   "id": "9f81949c-f053-4657-9e7f-fbc55d7ce396",
   "metadata": {},
   "source": [
    "## \\* Задание 8.\n",
    "\n",
    "Решите задачу 5 за линейное время. Можно использовать дополнительную память. Для проверки можете использовать код в задаче 7."
   ]
  },
  {
   "cell_type": "code",
   "execution_count": 79,
   "id": "8feecf82-b126-4a66-8a93-4f333ae85b28",
   "metadata": {},
   "outputs": [
    {
     "ename": "TypeError",
     "evalue": "must be real number, not list",
     "output_type": "error",
     "traceback": [
      "\u001b[1;31m---------------------------------------------------------------------------\u001b[0m",
      "\u001b[1;31mTypeError\u001b[0m                                 Traceback (most recent call last)",
      "\u001b[1;32m~\\AppData\\Local\\Temp/ipykernel_10560/1681001430.py\u001b[0m in \u001b[0;36m<module>\u001b[1;34m\u001b[0m\n\u001b[0;32m     12\u001b[0m \u001b[1;33m\u001b[0m\u001b[0m\n\u001b[0;32m     13\u001b[0m \u001b[0mseqbool\u001b[0m\u001b[1;33m\u001b[0m\u001b[1;33m\u001b[0m\u001b[0m\n\u001b[1;32m---> 14\u001b[1;33m \u001b[0mnewseq\u001b[0m \u001b[1;33m=\u001b[0m \u001b[1;33m[\u001b[0m\u001b[0mx\u001b[0m \u001b[1;32mfor\u001b[0m \u001b[0mx\u001b[0m \u001b[1;32min\u001b[0m \u001b[0mseq\u001b[0m \u001b[1;32mif\u001b[0m \u001b[0mmath\u001b[0m\u001b[1;33m.\u001b[0m\u001b[0misnan\u001b[0m\u001b[1;33m(\u001b[0m\u001b[0mseqbool\u001b[0m\u001b[1;33m)\u001b[0m \u001b[1;33m==\u001b[0m \u001b[1;32mFalse\u001b[0m\u001b[1;33m]\u001b[0m\u001b[1;33m\u001b[0m\u001b[1;33m\u001b[0m\u001b[0m\n\u001b[0m\u001b[0;32m     15\u001b[0m \u001b[0mnewseq\u001b[0m\u001b[1;33m\u001b[0m\u001b[1;33m\u001b[0m\u001b[0m\n\u001b[0;32m     16\u001b[0m \u001b[1;31m# sewseq\u001b[0m\u001b[1;33m\u001b[0m\u001b[1;33m\u001b[0m\u001b[0m\n",
      "\u001b[1;32m~\\AppData\\Local\\Temp/ipykernel_10560/1681001430.py\u001b[0m in \u001b[0;36m<listcomp>\u001b[1;34m(.0)\u001b[0m\n\u001b[0;32m     12\u001b[0m \u001b[1;33m\u001b[0m\u001b[0m\n\u001b[0;32m     13\u001b[0m \u001b[0mseqbool\u001b[0m\u001b[1;33m\u001b[0m\u001b[1;33m\u001b[0m\u001b[0m\n\u001b[1;32m---> 14\u001b[1;33m \u001b[0mnewseq\u001b[0m \u001b[1;33m=\u001b[0m \u001b[1;33m[\u001b[0m\u001b[0mx\u001b[0m \u001b[1;32mfor\u001b[0m \u001b[0mx\u001b[0m \u001b[1;32min\u001b[0m \u001b[0mseq\u001b[0m \u001b[1;32mif\u001b[0m \u001b[0mmath\u001b[0m\u001b[1;33m.\u001b[0m\u001b[0misnan\u001b[0m\u001b[1;33m(\u001b[0m\u001b[0mseqbool\u001b[0m\u001b[1;33m)\u001b[0m \u001b[1;33m==\u001b[0m \u001b[1;32mFalse\u001b[0m\u001b[1;33m]\u001b[0m\u001b[1;33m\u001b[0m\u001b[1;33m\u001b[0m\u001b[0m\n\u001b[0m\u001b[0;32m     15\u001b[0m \u001b[0mnewseq\u001b[0m\u001b[1;33m\u001b[0m\u001b[1;33m\u001b[0m\u001b[0m\n\u001b[0;32m     16\u001b[0m \u001b[1;31m# sewseq\u001b[0m\u001b[1;33m\u001b[0m\u001b[1;33m\u001b[0m\u001b[0m\n",
      "\u001b[1;31mTypeError\u001b[0m: must be real number, not list"
     ]
    }
   ],
   "source": [
    "seq = [1,2,3,2,4,4,1,5,3,5,5,6,7,3,8,1,9,1]\n",
    "# seq = [1,2,3,4,2,4,1,5]\n",
    "seqbool = ['NaN'] * len(seq)\n",
    "setseq = set(seq)\n",
    "i = 0\n",
    "while len(setseq)>0:\n",
    "    for i in range(0,len(seq)):\n",
    "        if (seq[i] in setseq):\n",
    "            seqbool[i] = 1\n",
    "            setseq.remove(seq[i])\n",
    "            i += 1\n",
    "        \n",
    "seqbool\n",
    "newseq = [x for x in seq if math.isnan(seqbool) == False]\n",
    "newseq\n",
    "# sewseq"
   ]
  },
  {
   "cell_type": "markdown",
   "id": "2de2486b-5b0c-4427-973f-6180c70180af",
   "metadata": {},
   "source": [
    "## \\* Задание 9. \n",
    "\n",
    "Решите задачу 6 за линейное время. Можно использовать дополнительную память. "
   ]
  },
  {
   "cell_type": "code",
   "execution_count": 61,
   "id": "279e8b92-5b2d-4702-ac80-e421464211fd",
   "metadata": {},
   "outputs": [
    {
     "data": {
      "text/plain": [
       "set()"
      ]
     },
     "execution_count": 61,
     "metadata": {},
     "output_type": "execute_result"
    }
   ],
   "source": [
    "setseq"
   ]
  },
  {
   "cell_type": "markdown",
   "id": "1395e9e2-91de-4ce9-8306-dff9a6200503",
   "metadata": {},
   "source": [
    "## Задание 10. \n",
    "\n",
    "Напишите функцию, которая принимает строчку и возвращает порядковые номера всех букв в этой строчке в виде списка (напоминаю, что порядковый номер буквы в юникоде возвращает ord('c')). "
   ]
  },
  {
   "cell_type": "code",
   "execution_count": null,
   "id": "a719b2d0-31b0-459c-bf35-4785eae27e8c",
   "metadata": {},
   "outputs": [],
   "source": [
    "# your code here"
   ]
  },
  {
   "cell_type": "markdown",
   "id": "692eb110-3ca9-4426-b4b7-565e4447b54d",
   "metadata": {},
   "source": [
    "## Задание 11. \n",
    "\n",
    "Напишите функцию, которая принимает неограниченное количество параметров - целых чисел и верните все эти числа, возведенные в квадрат, в списке. "
   ]
  },
  {
   "cell_type": "code",
   "execution_count": null,
   "id": "90b9a4dd-5a70-4803-bcc1-cdb768bd1048",
   "metadata": {},
   "outputs": [],
   "source": [
    "# your code here"
   ]
  },
  {
   "cell_type": "markdown",
   "id": "eba432d1-eeab-4fef-8830-98f7e01b734d",
   "metadata": {},
   "source": [
    "## Задание 12.\n",
    "\n",
    "Напишите функцию sign, которая принимает целое число и возвращает True, если оно положительное, и False, если оно отрицательное. На 0 можно возвращать NoneType (подумайте, как это сделать?)"
   ]
  },
  {
   "cell_type": "code",
   "execution_count": null,
   "id": "20a62f16-9f70-4114-9879-5d665ac65600",
   "metadata": {},
   "outputs": [],
   "source": [
    "# your code here"
   ]
  }
 ],
 "metadata": {
  "kernelspec": {
   "display_name": "Python 3 (ipykernel)",
   "language": "python",
   "name": "python3"
  },
  "language_info": {
   "codemirror_mode": {
    "name": "ipython",
    "version": 3
   },
   "file_extension": ".py",
   "mimetype": "text/x-python",
   "name": "python",
   "nbconvert_exporter": "python",
   "pygments_lexer": "ipython3",
   "version": "3.9.7"
  }
 },
 "nbformat": 4,
 "nbformat_minor": 5
}
